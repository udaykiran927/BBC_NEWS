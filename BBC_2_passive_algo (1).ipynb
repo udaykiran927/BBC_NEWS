{
 "cells": [
  {
   "cell_type": "code",
   "execution_count": 37,
   "id": "4b1f9d48",
   "metadata": {
    "colab": {
     "base_uri": "https://localhost:8080/"
    },
    "id": "4b1f9d48",
    "outputId": "3e29d996-0d74-43e7-a792-091a061c1b89"
   },
   "outputs": [
    {
     "name": "stdout",
     "output_type": "stream",
     "text": [
      "Looking in indexes: https://pypi.org/simple, https://us-python.pkg.dev/colab-wheels/public/simple/\n",
      "Collecting lazypredict\n",
      "  Downloading lazypredict-0.2.12-py2.py3-none-any.whl (12 kB)\n",
      "Requirement already satisfied: xgboost in /usr/local/lib/python3.8/dist-packages (from lazypredict) (0.90)\n",
      "Requirement already satisfied: click in /usr/local/lib/python3.8/dist-packages (from lazypredict) (7.1.2)\n",
      "Requirement already satisfied: lightgbm in /usr/local/lib/python3.8/dist-packages (from lazypredict) (2.2.3)\n",
      "Requirement already satisfied: joblib in /usr/local/lib/python3.8/dist-packages (from lazypredict) (1.2.0)\n",
      "Requirement already satisfied: scikit-learn in /usr/local/lib/python3.8/dist-packages (from lazypredict) (1.0.2)\n",
      "Requirement already satisfied: pandas in /usr/local/lib/python3.8/dist-packages (from lazypredict) (1.3.5)\n",
      "Requirement already satisfied: tqdm in /usr/local/lib/python3.8/dist-packages (from lazypredict) (4.64.1)\n",
      "Requirement already satisfied: numpy in /usr/local/lib/python3.8/dist-packages (from lightgbm->lazypredict) (1.21.6)\n",
      "Requirement already satisfied: scipy in /usr/local/lib/python3.8/dist-packages (from lightgbm->lazypredict) (1.7.3)\n",
      "Requirement already satisfied: pytz>=2017.3 in /usr/local/lib/python3.8/dist-packages (from pandas->lazypredict) (2022.6)\n",
      "Requirement already satisfied: python-dateutil>=2.7.3 in /usr/local/lib/python3.8/dist-packages (from pandas->lazypredict) (2.8.2)\n",
      "Requirement already satisfied: six>=1.5 in /usr/local/lib/python3.8/dist-packages (from python-dateutil>=2.7.3->pandas->lazypredict) (1.15.0)\n",
      "Requirement already satisfied: threadpoolctl>=2.0.0 in /usr/local/lib/python3.8/dist-packages (from scikit-learn->lazypredict) (3.1.0)\n",
      "Installing collected packages: lazypredict\n",
      "Successfully installed lazypredict-0.2.12\n"
     ]
    }
   ],
   "source": [
    "!pip install lazypredict"
   ]
  },
  {
   "cell_type": "code",
   "execution_count": 1,
   "id": "b971f2e7",
   "metadata": {
    "id": "b971f2e7"
   },
   "outputs": [],
   "source": [
    "import pandas as pd\n",
    "import numpy as np\n",
    "import nltk\n",
    "from matplotlib import pyplot as plt\n",
    "from nltk.stem import PorterStemmer \n",
    "from nltk.tokenize import word_tokenize \n",
    "import seaborn as sns\n"
   ]
  },
  {
   "cell_type": "code",
   "execution_count": 2,
   "id": "42cf31e5",
   "metadata": {
    "colab": {
     "base_uri": "https://localhost:8080/"
    },
    "id": "42cf31e5",
    "outputId": "a19889da-94e4-45ec-a01f-b3407a527754"
   },
   "outputs": [
    {
     "name": "stderr",
     "output_type": "stream",
     "text": [
      "[nltk_data] Error loading stopwords: <urlopen error [Errno 11001]\n",
      "[nltk_data]     getaddrinfo failed>\n"
     ]
    },
    {
     "data": {
      "text/plain": [
       "False"
      ]
     },
     "execution_count": 2,
     "metadata": {},
     "output_type": "execute_result"
    }
   ],
   "source": [
    "nltk.download('stopwords')"
   ]
  },
  {
   "cell_type": "code",
   "execution_count": 4,
   "id": "25db03ce",
   "metadata": {
    "colab": {
     "base_uri": "https://localhost:8080/"
    },
    "id": "25db03ce",
    "outputId": "1a74c7ae-8fcd-46e5-910c-1b332e2e7637"
   },
   "outputs": [
    {
     "data": {
      "text/plain": [
       "(2225, 3)"
      ]
     },
     "execution_count": 4,
     "metadata": {},
     "output_type": "execute_result"
    }
   ],
   "source": [
    "df=pd.read_csv(\"BBC_NEWS.csv\")\n",
    "df.shape"
   ]
  },
  {
   "cell_type": "code",
   "execution_count": 5,
   "id": "9ccc9b39",
   "metadata": {
    "colab": {
     "base_uri": "https://localhost:8080/",
     "height": 206
    },
    "id": "9ccc9b39",
    "outputId": "601e71f1-a282-4f68-bd7c-e1d8f7063e9b"
   },
   "outputs": [
    {
     "data": {
      "text/html": [
       "<div>\n",
       "<style scoped>\n",
       "    .dataframe tbody tr th:only-of-type {\n",
       "        vertical-align: middle;\n",
       "    }\n",
       "\n",
       "    .dataframe tbody tr th {\n",
       "        vertical-align: top;\n",
       "    }\n",
       "\n",
       "    .dataframe thead th {\n",
       "        text-align: right;\n",
       "    }\n",
       "</style>\n",
       "<table border=\"1\" class=\"dataframe\">\n",
       "  <thead>\n",
       "    <tr style=\"text-align: right;\">\n",
       "      <th></th>\n",
       "      <th>ArticleId</th>\n",
       "      <th>Text</th>\n",
       "      <th>Category</th>\n",
       "    </tr>\n",
       "  </thead>\n",
       "  <tbody>\n",
       "    <tr>\n",
       "      <th>0</th>\n",
       "      <td>1833</td>\n",
       "      <td>worldcom ex-boss launches defence lawyers defe...</td>\n",
       "      <td>business</td>\n",
       "    </tr>\n",
       "    <tr>\n",
       "      <th>1</th>\n",
       "      <td>154</td>\n",
       "      <td>german business confidence slides german busin...</td>\n",
       "      <td>business</td>\n",
       "    </tr>\n",
       "    <tr>\n",
       "      <th>2</th>\n",
       "      <td>1101</td>\n",
       "      <td>bbc poll indicates economic gloom citizens in ...</td>\n",
       "      <td>business</td>\n",
       "    </tr>\n",
       "    <tr>\n",
       "      <th>3</th>\n",
       "      <td>1976</td>\n",
       "      <td>lifestyle  governs mobile choice  faster  bett...</td>\n",
       "      <td>tech</td>\n",
       "    </tr>\n",
       "    <tr>\n",
       "      <th>4</th>\n",
       "      <td>917</td>\n",
       "      <td>enron bosses in $168m payout eighteen former e...</td>\n",
       "      <td>business</td>\n",
       "    </tr>\n",
       "  </tbody>\n",
       "</table>\n",
       "</div>"
      ],
      "text/plain": [
       "   ArticleId                                               Text  Category\n",
       "0       1833  worldcom ex-boss launches defence lawyers defe...  business\n",
       "1        154  german business confidence slides german busin...  business\n",
       "2       1101  bbc poll indicates economic gloom citizens in ...  business\n",
       "3       1976  lifestyle  governs mobile choice  faster  bett...      tech\n",
       "4        917  enron bosses in $168m payout eighteen former e...  business"
      ]
     },
     "execution_count": 5,
     "metadata": {},
     "output_type": "execute_result"
    }
   ],
   "source": [
    "df.head()"
   ]
  },
  {
   "cell_type": "code",
   "execution_count": 6,
   "id": "29d94c16",
   "metadata": {
    "colab": {
     "base_uri": "https://localhost:8080/"
    },
    "id": "29d94c16",
    "outputId": "04b36331-f69f-41b2-e86a-3281861b7deb"
   },
   "outputs": [
    {
     "data": {
      "text/plain": [
       "ArticleId    0\n",
       "Text         0\n",
       "Category     0\n",
       "dtype: int64"
      ]
     },
     "execution_count": 6,
     "metadata": {},
     "output_type": "execute_result"
    }
   ],
   "source": [
    "df.isnull().sum()"
   ]
  },
  {
   "cell_type": "code",
   "execution_count": 7,
   "id": "420e5697",
   "metadata": {
    "id": "420e5697"
   },
   "outputs": [],
   "source": [
    "df.drop(\"ArticleId\",axis=1,inplace=True)"
   ]
  },
  {
   "cell_type": "code",
   "execution_count": 8,
   "id": "7728ef5b",
   "metadata": {
    "id": "7728ef5b"
   },
   "outputs": [],
   "source": [
    "df['category_id'] = df['Category'].factorize()[0]"
   ]
  },
  {
   "cell_type": "code",
   "execution_count": 9,
   "id": "b63c15f4",
   "metadata": {
    "colab": {
     "base_uri": "https://localhost:8080/",
     "height": 206
    },
    "id": "b63c15f4",
    "outputId": "7691e3d5-69e7-4e71-d59d-a6db82ab74a1"
   },
   "outputs": [
    {
     "data": {
      "text/html": [
       "\n",
       "  <div id=\"df-4db9c428-e6f4-4c44-a5f5-1b4e73dda2bf\">\n",
       "    <div class=\"colab-df-container\">\n",
       "      <div>\n",
       "<style scoped>\n",
       "    .dataframe tbody tr th:only-of-type {\n",
       "        vertical-align: middle;\n",
       "    }\n",
       "\n",
       "    .dataframe tbody tr th {\n",
       "        vertical-align: top;\n",
       "    }\n",
       "\n",
       "    .dataframe thead th {\n",
       "        text-align: right;\n",
       "    }\n",
       "</style>\n",
       "<table border=\"1\" class=\"dataframe\">\n",
       "  <thead>\n",
       "    <tr style=\"text-align: right;\">\n",
       "      <th></th>\n",
       "      <th>Text</th>\n",
       "      <th>Category</th>\n",
       "      <th>category_id</th>\n",
       "    </tr>\n",
       "  </thead>\n",
       "  <tbody>\n",
       "    <tr>\n",
       "      <th>0</th>\n",
       "      <td>worldcom ex-boss launches defence lawyers defe...</td>\n",
       "      <td>business</td>\n",
       "      <td>0</td>\n",
       "    </tr>\n",
       "    <tr>\n",
       "      <th>1</th>\n",
       "      <td>german business confidence slides german busin...</td>\n",
       "      <td>business</td>\n",
       "      <td>0</td>\n",
       "    </tr>\n",
       "    <tr>\n",
       "      <th>2</th>\n",
       "      <td>bbc poll indicates economic gloom citizens in ...</td>\n",
       "      <td>business</td>\n",
       "      <td>0</td>\n",
       "    </tr>\n",
       "    <tr>\n",
       "      <th>3</th>\n",
       "      <td>lifestyle  governs mobile choice  faster  bett...</td>\n",
       "      <td>tech</td>\n",
       "      <td>1</td>\n",
       "    </tr>\n",
       "    <tr>\n",
       "      <th>4</th>\n",
       "      <td>enron bosses in $168m payout eighteen former e...</td>\n",
       "      <td>business</td>\n",
       "      <td>0</td>\n",
       "    </tr>\n",
       "  </tbody>\n",
       "</table>\n",
       "</div>\n",
       "      <button class=\"colab-df-convert\" onclick=\"convertToInteractive('df-4db9c428-e6f4-4c44-a5f5-1b4e73dda2bf')\"\n",
       "              title=\"Convert this dataframe to an interactive table.\"\n",
       "              style=\"display:none;\">\n",
       "        \n",
       "  <svg xmlns=\"http://www.w3.org/2000/svg\" height=\"24px\"viewBox=\"0 0 24 24\"\n",
       "       width=\"24px\">\n",
       "    <path d=\"M0 0h24v24H0V0z\" fill=\"none\"/>\n",
       "    <path d=\"M18.56 5.44l.94 2.06.94-2.06 2.06-.94-2.06-.94-.94-2.06-.94 2.06-2.06.94zm-11 1L8.5 8.5l.94-2.06 2.06-.94-2.06-.94L8.5 2.5l-.94 2.06-2.06.94zm10 10l.94 2.06.94-2.06 2.06-.94-2.06-.94-.94-2.06-.94 2.06-2.06.94z\"/><path d=\"M17.41 7.96l-1.37-1.37c-.4-.4-.92-.59-1.43-.59-.52 0-1.04.2-1.43.59L10.3 9.45l-7.72 7.72c-.78.78-.78 2.05 0 2.83L4 21.41c.39.39.9.59 1.41.59.51 0 1.02-.2 1.41-.59l7.78-7.78 2.81-2.81c.8-.78.8-2.07 0-2.86zM5.41 20L4 18.59l7.72-7.72 1.47 1.35L5.41 20z\"/>\n",
       "  </svg>\n",
       "      </button>\n",
       "      \n",
       "  <style>\n",
       "    .colab-df-container {\n",
       "      display:flex;\n",
       "      flex-wrap:wrap;\n",
       "      gap: 12px;\n",
       "    }\n",
       "\n",
       "    .colab-df-convert {\n",
       "      background-color: #E8F0FE;\n",
       "      border: none;\n",
       "      border-radius: 50%;\n",
       "      cursor: pointer;\n",
       "      display: none;\n",
       "      fill: #1967D2;\n",
       "      height: 32px;\n",
       "      padding: 0 0 0 0;\n",
       "      width: 32px;\n",
       "    }\n",
       "\n",
       "    .colab-df-convert:hover {\n",
       "      background-color: #E2EBFA;\n",
       "      box-shadow: 0px 1px 2px rgba(60, 64, 67, 0.3), 0px 1px 3px 1px rgba(60, 64, 67, 0.15);\n",
       "      fill: #174EA6;\n",
       "    }\n",
       "\n",
       "    [theme=dark] .colab-df-convert {\n",
       "      background-color: #3B4455;\n",
       "      fill: #D2E3FC;\n",
       "    }\n",
       "\n",
       "    [theme=dark] .colab-df-convert:hover {\n",
       "      background-color: #434B5C;\n",
       "      box-shadow: 0px 1px 3px 1px rgba(0, 0, 0, 0.15);\n",
       "      filter: drop-shadow(0px 1px 2px rgba(0, 0, 0, 0.3));\n",
       "      fill: #FFFFFF;\n",
       "    }\n",
       "  </style>\n",
       "\n",
       "      <script>\n",
       "        const buttonEl =\n",
       "          document.querySelector('#df-4db9c428-e6f4-4c44-a5f5-1b4e73dda2bf button.colab-df-convert');\n",
       "        buttonEl.style.display =\n",
       "          google.colab.kernel.accessAllowed ? 'block' : 'none';\n",
       "\n",
       "        async function convertToInteractive(key) {\n",
       "          const element = document.querySelector('#df-4db9c428-e6f4-4c44-a5f5-1b4e73dda2bf');\n",
       "          const dataTable =\n",
       "            await google.colab.kernel.invokeFunction('convertToInteractive',\n",
       "                                                     [key], {});\n",
       "          if (!dataTable) return;\n",
       "\n",
       "          const docLinkHtml = 'Like what you see? Visit the ' +\n",
       "            '<a target=\"_blank\" href=https://colab.research.google.com/notebooks/data_table.ipynb>data table notebook</a>'\n",
       "            + ' to learn more about interactive tables.';\n",
       "          element.innerHTML = '';\n",
       "          dataTable['output_type'] = 'display_data';\n",
       "          await google.colab.output.renderOutput(dataTable, element);\n",
       "          const docLink = document.createElement('div');\n",
       "          docLink.innerHTML = docLinkHtml;\n",
       "          element.appendChild(docLink);\n",
       "        }\n",
       "      </script>\n",
       "    </div>\n",
       "  </div>\n",
       "  "
      ],
      "text/plain": [
       "                                                Text  Category  category_id\n",
       "0  worldcom ex-boss launches defence lawyers defe...  business            0\n",
       "1  german business confidence slides german busin...  business            0\n",
       "2  bbc poll indicates economic gloom citizens in ...  business            0\n",
       "3  lifestyle  governs mobile choice  faster  bett...      tech            1\n",
       "4  enron bosses in $168m payout eighteen former e...  business            0"
      ]
     },
     "execution_count": 9,
     "metadata": {},
     "output_type": "execute_result"
    }
   ],
   "source": [
    "df.head()"
   ]
  },
  {
   "cell_type": "code",
   "execution_count": 10,
   "id": "b69a3942",
   "metadata": {
    "colab": {
     "base_uri": "https://localhost:8080/",
     "height": 35
    },
    "id": "b69a3942",
    "outputId": "43bc44e7-e356-46ff-e921-e0894c41719b"
   },
   "outputs": [
    {
     "data": {
      "application/vnd.google.colaboratory.intrinsic+json": {
       "type": "string"
      },
      "text/plain": [
       "'text_file = open(\"stopwords.txt\", \"r\")\\nstopwords = text_file.read().split(\\'\\n\\')'"
      ]
     },
     "execution_count": 10,
     "metadata": {},
     "output_type": "execute_result"
    }
   ],
   "source": [
    "stopwords = nltk.corpus.stopwords.words('english')\n",
    "'''text_file = open(\"stopwords.txt\", \"r\")\n",
    "stopwords = text_file.read().split('\\n')'''"
   ]
  },
  {
   "cell_type": "code",
   "execution_count": 11,
   "id": "19dc4020",
   "metadata": {
    "id": "19dc4020"
   },
   "outputs": [],
   "source": [
    "df['news_without_stopwords'] = df['Text'].apply(lambda x: ' '.join([word for word in x.split() if word not in (stopwords)]))"
   ]
  },
  {
   "cell_type": "code",
   "execution_count": 12,
   "id": "445ed012",
   "metadata": {
    "colab": {
     "base_uri": "https://localhost:8080/"
    },
    "id": "445ed012",
    "outputId": "6b4b71be-bb0e-4c73-95cd-ed5b7e46aff0"
   },
   "outputs": [
    {
     "name": "stdout",
     "output_type": "stream",
     "text": [
      "1455\n"
     ]
    }
   ],
   "source": [
    "print(len(df['news_without_stopwords'][0]))"
   ]
  },
  {
   "cell_type": "code",
   "execution_count": 13,
   "id": "5548ce83",
   "metadata": {
    "colab": {
     "base_uri": "https://localhost:8080/"
    },
    "id": "5548ce83",
    "outputId": "044996bc-899f-469c-b79c-3f78e29178d1"
   },
   "outputs": [
    {
     "name": "stdout",
     "output_type": "stream",
     "text": [
      "0       worldcom ex-boss launches defence lawyers defe...\n",
      "1       german business confidence slides german busin...\n",
      "2       bbc poll indicates economic gloom citizens maj...\n",
      "3       lifestyle governs mobile choice faster better ...\n",
      "4       enron bosses $168m payout eighteen former enro...\n",
      "                              ...                        \n",
      "1396    south africa sweep top awards south africa sch...\n",
      "1397    power people says hp digital revolution focuse...\n",
      "1398    banker loses sexism claim former executive lon...\n",
      "1399    wmc says xstrata bid low australian mining fir...\n",
      "1400    yukos unit buyer faces loan claim owners embat...\n",
      "Name: news_without_stopwords, Length: 1401, dtype: object\n"
     ]
    }
   ],
   "source": [
    "print(df['news_without_stopwords'])"
   ]
  },
  {
   "cell_type": "code",
   "execution_count": null,
   "id": "971e8af0",
   "metadata": {
    "id": "971e8af0"
   },
   "outputs": [],
   "source": []
  },
  {
   "cell_type": "code",
   "execution_count": 14,
   "id": "1a8720b8",
   "metadata": {
    "id": "1a8720b8"
   },
   "outputs": [],
   "source": [
    "ps = PorterStemmer()"
   ]
  },
  {
   "cell_type": "code",
   "execution_count": 15,
   "id": "ae907689",
   "metadata": {
    "id": "ae907689"
   },
   "outputs": [],
   "source": [
    "df['news_porter_stemmed'] = df['news_without_stopwords'].apply(lambda x: ' '.join([ps.stem(word) for word in x.split()]))"
   ]
  },
  {
   "cell_type": "code",
   "execution_count": 16,
   "id": "54da129e",
   "metadata": {
    "colab": {
     "base_uri": "https://localhost:8080/"
    },
    "id": "54da129e",
    "outputId": "197f59e9-245e-4d92-8b8f-7bd7a44ba203"
   },
   "outputs": [
    {
     "name": "stdout",
     "output_type": "stream",
     "text": [
      "worldcom ex-boss launches defence lawyers defending former worldcom chief bernie ebbers battery fraud charges called company whistleblower first witness. cynthia cooper worldcom ex-head internal accounting alerted directors irregular accounting practices us telecoms giant 2002. warnings led collapse firm following discovery $11bn (£5.7bn) accounting fraud. mr ebbers pleaded guilty charges fraud conspiracy. prosecution lawyers argued mr ebbers orchestrated series accounting tricks worldcom ordering employees hide expenses inflate revenues meet wall street earnings estimates. ms cooper runs consulting business told jury new york wednesday external auditors arthur andersen approved worldcom accounting early 2001 2002. said andersen given green light procedures practices used worldcom. mr ebber lawyers said unaware fraud arguing auditors alert problems. ms cooper also said shareholder meetings mr ebbers often passed technical questions company finance chief giving brief answers himself. prosecution star witness former worldcom financial chief scott sullivan said mr ebbers ordered accounting adjustments firm telling hit books . however ms cooper said mr sullivan mentioned anything uncomfortable worldcom accounting 2001 audit committee meeting. mr ebbers could face jail sentence 85 years convicted charges facing. worldcom emerged bankruptcy protection 2004 known mci. last week mci agreed buyout verizon communications deal valued $6.75bn.\n"
     ]
    }
   ],
   "source": [
    "print(df['news_without_stopwords'][0])"
   ]
  },
  {
   "cell_type": "code",
   "execution_count": 17,
   "id": "ea2723d5",
   "metadata": {
    "colab": {
     "base_uri": "https://localhost:8080/"
    },
    "id": "ea2723d5",
    "outputId": "cb7c0ab4-192c-489f-93fd-60768ea06569"
   },
   "outputs": [
    {
     "name": "stdout",
     "output_type": "stream",
     "text": [
      "worldcom ex-boss launch defenc lawyer defend former worldcom chief berni ebber batteri fraud charg call compani whistleblow first witness. cynthia cooper worldcom ex-head intern account alert director irregular account practic us telecom giant 2002. warn led collaps firm follow discoveri $11bn (£5.7bn) account fraud. mr ebber plead guilti charg fraud conspiracy. prosecut lawyer argu mr ebber orchestr seri account trick worldcom order employe hide expens inflat revenu meet wall street earn estimates. ms cooper run consult busi told juri new york wednesday extern auditor arthur andersen approv worldcom account earli 2001 2002. said andersen given green light procedur practic use worldcom. mr ebber lawyer said unawar fraud argu auditor alert problems. ms cooper also said sharehold meet mr ebber often pass technic question compani financ chief give brief answer himself. prosecut star wit former worldcom financi chief scott sullivan said mr ebber order account adjust firm tell hit book . howev ms cooper said mr sullivan mention anyth uncomfort worldcom account 2001 audit committe meeting. mr ebber could face jail sentenc 85 year convict charg facing. worldcom emerg bankruptci protect 2004 known mci. last week mci agre buyout verizon commun deal valu $6.75bn.\n"
     ]
    }
   ],
   "source": [
    "print(df['news_porter_stemmed'][0])"
   ]
  },
  {
   "cell_type": "code",
   "execution_count": 18,
   "id": "782287f4",
   "metadata": {
    "colab": {
     "base_uri": "https://localhost:8080/"
    },
    "id": "782287f4",
    "outputId": "c7beb89b-5b3d-425d-a045-7768bbbb78c2"
   },
   "outputs": [
    {
     "name": "stderr",
     "output_type": "stream",
     "text": [
      "<ipython-input-18-90dbc40a32ec>:1: FutureWarning: The default value of regex will change from True to False in a future version.\n",
      "  df['news_porter_stemmed'] = df['news_porter_stemmed'].str.replace('[^\\w\\s]','')\n"
     ]
    }
   ],
   "source": [
    "df['news_porter_stemmed'] = df['news_porter_stemmed'].str.replace('[^\\w\\s]','')"
   ]
  },
  {
   "cell_type": "code",
   "execution_count": 19,
   "id": "3dfa9a67",
   "metadata": {
    "id": "3dfa9a67"
   },
   "outputs": [],
   "source": [
    "df['news_porter_stemmed'] = df['news_porter_stemmed'].apply(lambda x: ' '.join(x.lower() for x in x.split()))"
   ]
  },
  {
   "cell_type": "code",
   "execution_count": 20,
   "id": "7788574e",
   "metadata": {
    "colab": {
     "base_uri": "https://localhost:8080/",
     "height": 192
    },
    "id": "7788574e",
    "outputId": "a981a4b3-da9a-4ae3-dc72-242efbce6dc2"
   },
   "outputs": [
    {
     "data": {
      "application/vnd.google.colaboratory.intrinsic+json": {
       "type": "string"
      },
      "text/plain": [
       "'worldcom exboss launch defenc lawyer defend former worldcom chief berni ebber batteri fraud charg call compani whistleblow first witness cynthia cooper worldcom exhead intern account alert director irregular account practic us telecom giant 2002 warn led collaps firm follow discoveri 11bn 57bn account fraud mr ebber plead guilti charg fraud conspiracy prosecut lawyer argu mr ebber orchestr seri account trick worldcom order employe hide expens inflat revenu meet wall street earn estimates ms cooper run consult busi told juri new york wednesday extern auditor arthur andersen approv worldcom account earli 2001 2002 said andersen given green light procedur practic use worldcom mr ebber lawyer said unawar fraud argu auditor alert problems ms cooper also said sharehold meet mr ebber often pass technic question compani financ chief give brief answer himself prosecut star wit former worldcom financi chief scott sullivan said mr ebber order account adjust firm tell hit book howev ms cooper said mr sullivan mention anyth uncomfort worldcom account 2001 audit committe meeting mr ebber could face jail sentenc 85 year convict charg facing worldcom emerg bankruptci protect 2004 known mci last week mci agre buyout verizon commun deal valu 675bn'"
      ]
     },
     "execution_count": 20,
     "metadata": {},
     "output_type": "execute_result"
    }
   ],
   "source": [
    "df['news_porter_stemmed'][0]"
   ]
  },
  {
   "cell_type": "code",
   "execution_count": 21,
   "id": "fffe8123",
   "metadata": {
    "colab": {
     "base_uri": "https://localhost:8080/"
    },
    "id": "fffe8123",
    "outputId": "7c5069e8-9ff5-4c32-d075-ab92bb2091bd"
   },
   "outputs": [
    {
     "name": "stdout",
     "output_type": "stream",
     "text": [
      "308 1391.3433261955745\n"
     ]
    }
   ],
   "source": [
    "l=[]\n",
    "for i in df['news_porter_stemmed']:\n",
    "    l.append(len(i))\n",
    "l.sort()\n",
    "min_words=l[0]\n",
    "max_words=sum(l)/len(l)\n",
    "print(min_words,max_words)"
   ]
  },
  {
   "cell_type": "code",
   "execution_count": 22,
   "id": "1b3dce0a",
   "metadata": {
    "colab": {
     "base_uri": "https://localhost:8080/",
     "height": 389
    },
    "id": "1b3dce0a",
    "outputId": "eb4e64d0-a8b8-45ea-c6d4-d37891e60880"
   },
   "outputs": [
    {
     "data": {
      "text/html": [
       "\n",
       "  <div id=\"df-d18fa32a-f119-4d56-a956-1d3960bbf2d7\">\n",
       "    <div class=\"colab-df-container\">\n",
       "      <div>\n",
       "<style scoped>\n",
       "    .dataframe tbody tr th:only-of-type {\n",
       "        vertical-align: middle;\n",
       "    }\n",
       "\n",
       "    .dataframe tbody tr th {\n",
       "        vertical-align: top;\n",
       "    }\n",
       "\n",
       "    .dataframe thead th {\n",
       "        text-align: right;\n",
       "    }\n",
       "</style>\n",
       "<table border=\"1\" class=\"dataframe\">\n",
       "  <thead>\n",
       "    <tr style=\"text-align: right;\">\n",
       "      <th></th>\n",
       "      <th>Text</th>\n",
       "      <th>Category</th>\n",
       "      <th>category_id</th>\n",
       "      <th>news_without_stopwords</th>\n",
       "      <th>news_porter_stemmed</th>\n",
       "    </tr>\n",
       "  </thead>\n",
       "  <tbody>\n",
       "    <tr>\n",
       "      <th>0</th>\n",
       "      <td>worldcom ex-boss launches defence lawyers defe...</td>\n",
       "      <td>business</td>\n",
       "      <td>0</td>\n",
       "      <td>worldcom ex-boss launches defence lawyers defe...</td>\n",
       "      <td>worldcom exboss launch defenc lawyer defend fo...</td>\n",
       "    </tr>\n",
       "    <tr>\n",
       "      <th>1</th>\n",
       "      <td>german business confidence slides german busin...</td>\n",
       "      <td>business</td>\n",
       "      <td>0</td>\n",
       "      <td>german business confidence slides german busin...</td>\n",
       "      <td>german busi confid slide german busi confid fe...</td>\n",
       "    </tr>\n",
       "    <tr>\n",
       "      <th>2</th>\n",
       "      <td>bbc poll indicates economic gloom citizens in ...</td>\n",
       "      <td>business</td>\n",
       "      <td>0</td>\n",
       "      <td>bbc poll indicates economic gloom citizens maj...</td>\n",
       "      <td>bbc poll indic econom gloom citizen major nati...</td>\n",
       "    </tr>\n",
       "    <tr>\n",
       "      <th>3</th>\n",
       "      <td>lifestyle  governs mobile choice  faster  bett...</td>\n",
       "      <td>tech</td>\n",
       "      <td>1</td>\n",
       "      <td>lifestyle governs mobile choice faster better ...</td>\n",
       "      <td>lifestyl govern mobil choic faster better funk...</td>\n",
       "    </tr>\n",
       "    <tr>\n",
       "      <th>4</th>\n",
       "      <td>enron bosses in $168m payout eighteen former e...</td>\n",
       "      <td>business</td>\n",
       "      <td>0</td>\n",
       "      <td>enron bosses $168m payout eighteen former enro...</td>\n",
       "      <td>enron boss 168m payout eighteen former enron d...</td>\n",
       "    </tr>\n",
       "  </tbody>\n",
       "</table>\n",
       "</div>\n",
       "      <button class=\"colab-df-convert\" onclick=\"convertToInteractive('df-d18fa32a-f119-4d56-a956-1d3960bbf2d7')\"\n",
       "              title=\"Convert this dataframe to an interactive table.\"\n",
       "              style=\"display:none;\">\n",
       "        \n",
       "  <svg xmlns=\"http://www.w3.org/2000/svg\" height=\"24px\"viewBox=\"0 0 24 24\"\n",
       "       width=\"24px\">\n",
       "    <path d=\"M0 0h24v24H0V0z\" fill=\"none\"/>\n",
       "    <path d=\"M18.56 5.44l.94 2.06.94-2.06 2.06-.94-2.06-.94-.94-2.06-.94 2.06-2.06.94zm-11 1L8.5 8.5l.94-2.06 2.06-.94-2.06-.94L8.5 2.5l-.94 2.06-2.06.94zm10 10l.94 2.06.94-2.06 2.06-.94-2.06-.94-.94-2.06-.94 2.06-2.06.94z\"/><path d=\"M17.41 7.96l-1.37-1.37c-.4-.4-.92-.59-1.43-.59-.52 0-1.04.2-1.43.59L10.3 9.45l-7.72 7.72c-.78.78-.78 2.05 0 2.83L4 21.41c.39.39.9.59 1.41.59.51 0 1.02-.2 1.41-.59l7.78-7.78 2.81-2.81c.8-.78.8-2.07 0-2.86zM5.41 20L4 18.59l7.72-7.72 1.47 1.35L5.41 20z\"/>\n",
       "  </svg>\n",
       "      </button>\n",
       "      \n",
       "  <style>\n",
       "    .colab-df-container {\n",
       "      display:flex;\n",
       "      flex-wrap:wrap;\n",
       "      gap: 12px;\n",
       "    }\n",
       "\n",
       "    .colab-df-convert {\n",
       "      background-color: #E8F0FE;\n",
       "      border: none;\n",
       "      border-radius: 50%;\n",
       "      cursor: pointer;\n",
       "      display: none;\n",
       "      fill: #1967D2;\n",
       "      height: 32px;\n",
       "      padding: 0 0 0 0;\n",
       "      width: 32px;\n",
       "    }\n",
       "\n",
       "    .colab-df-convert:hover {\n",
       "      background-color: #E2EBFA;\n",
       "      box-shadow: 0px 1px 2px rgba(60, 64, 67, 0.3), 0px 1px 3px 1px rgba(60, 64, 67, 0.15);\n",
       "      fill: #174EA6;\n",
       "    }\n",
       "\n",
       "    [theme=dark] .colab-df-convert {\n",
       "      background-color: #3B4455;\n",
       "      fill: #D2E3FC;\n",
       "    }\n",
       "\n",
       "    [theme=dark] .colab-df-convert:hover {\n",
       "      background-color: #434B5C;\n",
       "      box-shadow: 0px 1px 3px 1px rgba(0, 0, 0, 0.15);\n",
       "      filter: drop-shadow(0px 1px 2px rgba(0, 0, 0, 0.3));\n",
       "      fill: #FFFFFF;\n",
       "    }\n",
       "  </style>\n",
       "\n",
       "      <script>\n",
       "        const buttonEl =\n",
       "          document.querySelector('#df-d18fa32a-f119-4d56-a956-1d3960bbf2d7 button.colab-df-convert');\n",
       "        buttonEl.style.display =\n",
       "          google.colab.kernel.accessAllowed ? 'block' : 'none';\n",
       "\n",
       "        async function convertToInteractive(key) {\n",
       "          const element = document.querySelector('#df-d18fa32a-f119-4d56-a956-1d3960bbf2d7');\n",
       "          const dataTable =\n",
       "            await google.colab.kernel.invokeFunction('convertToInteractive',\n",
       "                                                     [key], {});\n",
       "          if (!dataTable) return;\n",
       "\n",
       "          const docLinkHtml = 'Like what you see? Visit the ' +\n",
       "            '<a target=\"_blank\" href=https://colab.research.google.com/notebooks/data_table.ipynb>data table notebook</a>'\n",
       "            + ' to learn more about interactive tables.';\n",
       "          element.innerHTML = '';\n",
       "          dataTable['output_type'] = 'display_data';\n",
       "          await google.colab.output.renderOutput(dataTable, element);\n",
       "          const docLink = document.createElement('div');\n",
       "          docLink.innerHTML = docLinkHtml;\n",
       "          element.appendChild(docLink);\n",
       "        }\n",
       "      </script>\n",
       "    </div>\n",
       "  </div>\n",
       "  "
      ],
      "text/plain": [
       "                                                Text  Category  category_id  \\\n",
       "0  worldcom ex-boss launches defence lawyers defe...  business            0   \n",
       "1  german business confidence slides german busin...  business            0   \n",
       "2  bbc poll indicates economic gloom citizens in ...  business            0   \n",
       "3  lifestyle  governs mobile choice  faster  bett...      tech            1   \n",
       "4  enron bosses in $168m payout eighteen former e...  business            0   \n",
       "\n",
       "                              news_without_stopwords  \\\n",
       "0  worldcom ex-boss launches defence lawyers defe...   \n",
       "1  german business confidence slides german busin...   \n",
       "2  bbc poll indicates economic gloom citizens maj...   \n",
       "3  lifestyle governs mobile choice faster better ...   \n",
       "4  enron bosses $168m payout eighteen former enro...   \n",
       "\n",
       "                                 news_porter_stemmed  \n",
       "0  worldcom exboss launch defenc lawyer defend fo...  \n",
       "1  german busi confid slide german busi confid fe...  \n",
       "2  bbc poll indic econom gloom citizen major nati...  \n",
       "3  lifestyl govern mobil choic faster better funk...  \n",
       "4  enron boss 168m payout eighteen former enron d...  "
      ]
     },
     "execution_count": 22,
     "metadata": {},
     "output_type": "execute_result"
    }
   ],
   "source": [
    "df.head()"
   ]
  },
  {
   "cell_type": "code",
   "execution_count": 23,
   "id": "78bf1dd3",
   "metadata": {
    "id": "78bf1dd3"
   },
   "outputs": [],
   "source": [
    "freq = pd.Series(' '.join(df['news_porter_stemmed']).split()).value_counts()"
   ]
  },
  {
   "cell_type": "code",
   "execution_count": 24,
   "id": "58a93387",
   "metadata": {
    "colab": {
     "base_uri": "https://localhost:8080/"
    },
    "id": "58a93387",
    "outputId": "d5911045-9c26-41f6-bca1-442ddb4f9c3e"
   },
   "outputs": [
    {
     "data": {
      "text/plain": [
       "said     4533\n",
       "mr       1860\n",
       "would    1617\n",
       "year     1586\n",
       "also     1317\n",
       "dtype: int64"
      ]
     },
     "execution_count": 24,
     "metadata": {},
     "output_type": "execute_result"
    }
   ],
   "source": [
    "freq.head()"
   ]
  },
  {
   "cell_type": "code",
   "execution_count": 25,
   "id": "2aee1e22",
   "metadata": {
    "colab": {
     "base_uri": "https://localhost:8080/"
    },
    "id": "2aee1e22",
    "outputId": "a41aaae2-9e3f-411b-9dc8-50accfdc4042"
   },
   "outputs": [
    {
     "data": {
      "text/plain": [
       "3ami         3\n",
       "mccune       3\n",
       "viadana      3\n",
       "francais     3\n",
       "89           3\n",
       "            ..\n",
       "hernych      1\n",
       "dancev       1\n",
       "goldstein    1\n",
       "collegi      1\n",
       "fireston     1\n",
       "Length: 14812, dtype: int64"
      ]
     },
     "execution_count": 25,
     "metadata": {},
     "output_type": "execute_result"
    }
   ],
   "source": [
    "freq2 = freq[freq <= 3]\n",
    "freq2"
   ]
  },
  {
   "cell_type": "code",
   "execution_count": 26,
   "id": "89211447",
   "metadata": {
    "colab": {
     "base_uri": "https://localhost:8080/"
    },
    "id": "89211447",
    "outputId": "eb0f7514-7d5f-402b-8822-28e7b3b331bc"
   },
   "outputs": [
    {
     "data": {
      "text/plain": [
       "['3ami',\n",
       " 'mccune',\n",
       " 'viadana',\n",
       " 'francais',\n",
       " '89',\n",
       " 'statut',\n",
       " 'wikid',\n",
       " 'boynton',\n",
       " 'stormi',\n",
       " 'mama',\n",
       " 'elected',\n",
       " 'paralys',\n",
       " 'lavish',\n",
       " 'milton',\n",
       " 'uv',\n",
       " 'coltran',\n",
       " 'sink',\n",
       " 'tetri',\n",
       " 'girvan',\n",
       " 'addressed',\n",
       " 'ipswich',\n",
       " 'charad',\n",
       " 'nogar',\n",
       " 'credenti',\n",
       " 'metatars',\n",
       " 'pops',\n",
       " 'ide',\n",
       " 'shalabi',\n",
       " 'gunit',\n",
       " 'wendi',\n",
       " 'zidan',\n",
       " 'disreput',\n",
       " 'brownsword',\n",
       " 'certainti',\n",
       " 'cairo',\n",
       " 'netski',\n",
       " 'tiago',\n",
       " 'rake',\n",
       " 'damages',\n",
       " 'suicide',\n",
       " 'controls',\n",
       " 'gigapixel',\n",
       " 'fork',\n",
       " 'angi',\n",
       " 'disadvantage',\n",
       " 'image',\n",
       " 'tno',\n",
       " 'mukherje',\n",
       " 'cheung',\n",
       " 'creativity',\n",
       " 'fm',\n",
       " 'equality',\n",
       " 'banter',\n",
       " 'cheadle',\n",
       " 'scent',\n",
       " 'goalless',\n",
       " 'shops',\n",
       " 'alfonso',\n",
       " 'delux',\n",
       " 'gaydo',\n",
       " 'suffering',\n",
       " 'vaniti',\n",
       " 'lana',\n",
       " 'stoica',\n",
       " 'unspecifi',\n",
       " 'epitomis',\n",
       " 'exxonmobil',\n",
       " 'malwar',\n",
       " 'multimillion',\n",
       " 'renown',\n",
       " '262',\n",
       " 'alessandro',\n",
       " 'prosecution',\n",
       " 'hunts',\n",
       " '54bn',\n",
       " 'seagram',\n",
       " 'detroit',\n",
       " 'turk',\n",
       " 'chemistri',\n",
       " 'commonplace',\n",
       " 'midsiz',\n",
       " 'plummet',\n",
       " 'rave',\n",
       " 'sung',\n",
       " 'elhorga',\n",
       " 'redesign',\n",
       " 'suzuki',\n",
       " 'honeynet',\n",
       " 'rising',\n",
       " 'marlu',\n",
       " 'msp',\n",
       " 'truck',\n",
       " '127',\n",
       " 'kerrang',\n",
       " 'tweedbank',\n",
       " 'mammal',\n",
       " '34bn',\n",
       " 'carlisl',\n",
       " 'hasselbaink',\n",
       " 'dwindl',\n",
       " 'formid',\n",
       " 'wigley',\n",
       " 'vail',\n",
       " 'mccafferti',\n",
       " 'bushcheney',\n",
       " 'nationalis',\n",
       " 'chronicle',\n",
       " 'ineffect',\n",
       " 'georgewbushcom',\n",
       " 'qualit',\n",
       " 'falic',\n",
       " 'effective',\n",
       " 'weeklong',\n",
       " 'gimm',\n",
       " 'dominica',\n",
       " 'geek',\n",
       " 'thirdgener',\n",
       " 'propon',\n",
       " 'mutant',\n",
       " 'hypertag',\n",
       " '138m',\n",
       " 'leroi',\n",
       " 'ransom',\n",
       " 'ash',\n",
       " 'ugandan',\n",
       " 'talisman',\n",
       " 'jain',\n",
       " 'romanian',\n",
       " 'midway',\n",
       " 'pwc',\n",
       " 'fears',\n",
       " 'spite',\n",
       " 'recondit',\n",
       " 'mom',\n",
       " 'traor',\n",
       " 'communiqu233',\n",
       " 'blush',\n",
       " 'stealth',\n",
       " 'precursor',\n",
       " 'raul',\n",
       " 'aadc',\n",
       " 'appleg',\n",
       " 'esquiv',\n",
       " 'kechich',\n",
       " 'stearn',\n",
       " 'visitors',\n",
       " 'noncompetit',\n",
       " 'brien',\n",
       " 'mi',\n",
       " 'rumbl',\n",
       " 'alexandria',\n",
       " 'sneak',\n",
       " 'promised',\n",
       " 'glory',\n",
       " 'walkington',\n",
       " 'oneway',\n",
       " 'jayz',\n",
       " '80gb',\n",
       " 'beyonc',\n",
       " 'secondstr',\n",
       " 'houlihan',\n",
       " 'drinking',\n",
       " 'fibr',\n",
       " 'gcse',\n",
       " 'exot',\n",
       " 'classifi',\n",
       " 'drinkdriv',\n",
       " 'qca',\n",
       " 'culprit',\n",
       " 'ancelotti',\n",
       " 'beasti',\n",
       " 'herv',\n",
       " 'd12',\n",
       " 'timberlak',\n",
       " 'bands',\n",
       " '485',\n",
       " 'elabor',\n",
       " 'brooksid',\n",
       " 'doubledigit',\n",
       " 'feign',\n",
       " 'mantooth',\n",
       " 'salam',\n",
       " 'crossfield',\n",
       " 'dominated',\n",
       " 'prequel',\n",
       " 'malibu',\n",
       " 'resent',\n",
       " 'hyde',\n",
       " 'herlihi',\n",
       " 'recession',\n",
       " 'cp',\n",
       " '85bn',\n",
       " 'danton',\n",
       " 'blackwatch',\n",
       " 'another',\n",
       " 'barrow',\n",
       " 'rum',\n",
       " '163',\n",
       " 'hatfield',\n",
       " 'olympiako',\n",
       " 'jeannin',\n",
       " 'uncut',\n",
       " 'designed',\n",
       " 'covers',\n",
       " 'luke',\n",
       " 'idolstyl',\n",
       " 'lagat',\n",
       " 'skeen',\n",
       " 'flatter',\n",
       " 'tirunesh',\n",
       " 'charlott',\n",
       " 'starter',\n",
       " 'worn',\n",
       " 'cheadl',\n",
       " 'rusesabagina',\n",
       " 'fratern',\n",
       " 'baht',\n",
       " 'robocop',\n",
       " '450',\n",
       " 'maran',\n",
       " 'sevasti',\n",
       " 'uphil',\n",
       " 'shevardnadz',\n",
       " 'programming',\n",
       " '170',\n",
       " 'rashe',\n",
       " 'mccormick',\n",
       " 'bungi',\n",
       " '920',\n",
       " 'manslaught',\n",
       " '187',\n",
       " 'gunshot',\n",
       " 'bakri',\n",
       " '325',\n",
       " 'chronicl',\n",
       " 'musthave',\n",
       " 'harlin',\n",
       " 'buytolet',\n",
       " 'delegates',\n",
       " 'azmat',\n",
       " 'lessen',\n",
       " 'balkan',\n",
       " 'physics',\n",
       " 'lomu',\n",
       " 'mendelsohn',\n",
       " 'jew',\n",
       " 'simplifi',\n",
       " 'macedonia',\n",
       " 'kumaratunga',\n",
       " 'castro',\n",
       " 'skarsgard',\n",
       " 'based',\n",
       " 'impossible',\n",
       " 'naamsa',\n",
       " 'recours',\n",
       " 'gronkjaer',\n",
       " 'ourselves',\n",
       " 'nightclub',\n",
       " 'maci',\n",
       " '30bn',\n",
       " '18rate',\n",
       " 'manhunt',\n",
       " 'cambodia',\n",
       " 'gene',\n",
       " 'memory',\n",
       " 'scarlets',\n",
       " 'grandchild',\n",
       " 'rear',\n",
       " 'applianc',\n",
       " 'courtney',\n",
       " 'hein',\n",
       " 'burglar',\n",
       " '2025',\n",
       " 'warnock',\n",
       " 'cmf',\n",
       " 'bollywood',\n",
       " '2020',\n",
       " 'cocain',\n",
       " 'broaden',\n",
       " 'mendi',\n",
       " 'geographi',\n",
       " 'populist',\n",
       " 'opik',\n",
       " 'bagl',\n",
       " 'autobiographi',\n",
       " 'bros',\n",
       " 'highresolut',\n",
       " 'textur',\n",
       " 'lyricist',\n",
       " 'vanish',\n",
       " 'severn',\n",
       " 'defra',\n",
       " 'rachel',\n",
       " 'royalti',\n",
       " 'anita',\n",
       " 'prohunt',\n",
       " 'thirdround',\n",
       " 'kleinberg',\n",
       " 'packs',\n",
       " 'rehears',\n",
       " 'flame',\n",
       " 'cleared',\n",
       " 'uruguay',\n",
       " 'lesbian',\n",
       " 'internationally',\n",
       " 'bagleat',\n",
       " 'lil',\n",
       " 'nt',\n",
       " 'rendit',\n",
       " 'grandclaude',\n",
       " 'talal',\n",
       " 'jeanphilipp',\n",
       " '750m',\n",
       " 'fairmont',\n",
       " 'aurelien',\n",
       " 'valbon',\n",
       " 'scrapped',\n",
       " 'quash',\n",
       " 'pascal',\n",
       " 'yougov',\n",
       " 'vicki',\n",
       " 'imanol',\n",
       " 'shami',\n",
       " 'chakrabarti',\n",
       " 'enrico',\n",
       " 'receive',\n",
       " '001',\n",
       " '337',\n",
       " 'posthum',\n",
       " 'wari',\n",
       " 'sage',\n",
       " 'limelight',\n",
       " 'narbonn',\n",
       " 'nontradit',\n",
       " 'rings',\n",
       " 'tupac',\n",
       " 'kuwait',\n",
       " 'stories',\n",
       " 'clan',\n",
       " 'firstperson',\n",
       " 'gatekeep',\n",
       " 'ladder',\n",
       " 'har',\n",
       " 'regardless',\n",
       " 'territory',\n",
       " 'mcgraw',\n",
       " 'multin',\n",
       " 'nebraska',\n",
       " '46bn',\n",
       " 'replaced',\n",
       " 'kimberli',\n",
       " 'curs',\n",
       " 'oversight',\n",
       " '44bn',\n",
       " 'broadcasts',\n",
       " 'methodolog',\n",
       " 'chernin',\n",
       " 'technician',\n",
       " 'cepe',\n",
       " 'telecentr',\n",
       " 'donald',\n",
       " 'skills',\n",
       " 'broadcasting',\n",
       " 'exhom',\n",
       " '162',\n",
       " '900m',\n",
       " 'sectors',\n",
       " 'harden',\n",
       " 'smoothli',\n",
       " 'crisp',\n",
       " 'shelf',\n",
       " 'dali',\n",
       " 'highfield',\n",
       " 'asahi',\n",
       " 'alternatives',\n",
       " 'inconsist',\n",
       " 'charged',\n",
       " 'conspir',\n",
       " 'riski',\n",
       " 'irancel',\n",
       " 'kilometr',\n",
       " 'mignoni',\n",
       " 'ail',\n",
       " 'servers',\n",
       " 'ration',\n",
       " 'wsj',\n",
       " 'bert',\n",
       " 'emce',\n",
       " 'tote',\n",
       " 'mustafa',\n",
       " 'vinc',\n",
       " 'homebuy',\n",
       " 'caballero',\n",
       " 'spanishspeak',\n",
       " 'xhosa',\n",
       " 'antinazi',\n",
       " 'laharragu',\n",
       " 'standin',\n",
       " 'standout',\n",
       " 'robotiquett',\n",
       " 'candidates',\n",
       " 'dautenhahn',\n",
       " 'hertfordshire',\n",
       " 'cow',\n",
       " 'endus',\n",
       " 'unicef',\n",
       " 'softbank',\n",
       " 'tucker',\n",
       " 'macklin',\n",
       " 'rot',\n",
       " 'webcam',\n",
       " 'empow',\n",
       " 'rochdal',\n",
       " 'alfr',\n",
       " 'curtic',\n",
       " 'airports',\n",
       " 'orderli',\n",
       " 'cbo',\n",
       " 'josep',\n",
       " 'catherin',\n",
       " 'alain',\n",
       " 'quentin',\n",
       " 'imaginari',\n",
       " '95m',\n",
       " 'niven',\n",
       " '335m',\n",
       " '425m',\n",
       " 'scarlett',\n",
       " 'unrest',\n",
       " 'jurisdiction',\n",
       " 'abid',\n",
       " 'theede',\n",
       " 'hailstorm',\n",
       " '75bn',\n",
       " 'hung',\n",
       " 'leblanc',\n",
       " 'ag',\n",
       " 'thayer',\n",
       " 'ahern',\n",
       " 'lingus',\n",
       " 'manifestos',\n",
       " 'decreas',\n",
       " 'fluid',\n",
       " 'pedal',\n",
       " 'ascend',\n",
       " 'rd',\n",
       " 'apac',\n",
       " 'intensifi',\n",
       " 'unsung',\n",
       " 'computerimpl',\n",
       " 'bonnair',\n",
       " 'thion',\n",
       " 'servat',\n",
       " 'worried',\n",
       " 'milloud',\n",
       " 'overnight',\n",
       " 'perpignan',\n",
       " 'tyler',\n",
       " 'monica',\n",
       " 'thirdbiggest',\n",
       " 'crossparti',\n",
       " 'smooth',\n",
       " 'avatar',\n",
       " 'bridge',\n",
       " 'watcher',\n",
       " 'availability',\n",
       " 'relationships',\n",
       " 'intervoic',\n",
       " 'davos',\n",
       " 'thabo',\n",
       " 'mbeki',\n",
       " '275',\n",
       " 'tide',\n",
       " 'scorer',\n",
       " 'angelina',\n",
       " 'joli',\n",
       " 'impressive',\n",
       " 'ps2',\n",
       " 'alegr',\n",
       " 'ready',\n",
       " 'pricewaterhousecoop',\n",
       " 'drawback',\n",
       " 'townsend',\n",
       " 'wiley',\n",
       " 'analysis',\n",
       " 'chorlton',\n",
       " 'shaftesburi',\n",
       " 'soup',\n",
       " 'aac',\n",
       " 'slough',\n",
       " 'inexperienc',\n",
       " 'mask',\n",
       " 'sarcast',\n",
       " 'chin',\n",
       " 'rework',\n",
       " 'depreci',\n",
       " 'workplac',\n",
       " 'cautious',\n",
       " 'builder',\n",
       " 'clown',\n",
       " 'villain',\n",
       " 'outcome',\n",
       " 'messi',\n",
       " 'franchise',\n",
       " 'hutch',\n",
       " '007',\n",
       " 'filetrad',\n",
       " 'uphold',\n",
       " 'barnet',\n",
       " 'remad',\n",
       " 'sli',\n",
       " 'crane',\n",
       " 'saumarez',\n",
       " 'backdoor',\n",
       " 'suffix',\n",
       " 'smiley',\n",
       " 'stubb',\n",
       " 'alva',\n",
       " 'elliott',\n",
       " 'webster',\n",
       " 'bratman',\n",
       " 'christina',\n",
       " 'downloads',\n",
       " 'ancestor',\n",
       " 'wap',\n",
       " 'fatal',\n",
       " 'rocket',\n",
       " 'onslaught',\n",
       " 'fled',\n",
       " 'nake',\n",
       " 'addison',\n",
       " 'economics',\n",
       " '105bn',\n",
       " 'dinosaur',\n",
       " 'excus',\n",
       " 'favourites',\n",
       " 'climax',\n",
       " 'hain',\n",
       " 'thunder',\n",
       " 'grave',\n",
       " 'thomas',\n",
       " 'singlehandedli',\n",
       " 'stellar',\n",
       " 'bonds',\n",
       " '113bn',\n",
       " 'tracks',\n",
       " 'jade',\n",
       " 'a320',\n",
       " 'vijay',\n",
       " 'gopinath',\n",
       " 'characteris',\n",
       " 'sectarian',\n",
       " 'shambl',\n",
       " 'soccer',\n",
       " 'bigot',\n",
       " 'fog',\n",
       " 'milit',\n",
       " 'sridharan',\n",
       " '72m',\n",
       " 'columbia',\n",
       " 'prolifer',\n",
       " 'vista',\n",
       " 'tracker',\n",
       " 'marcel',\n",
       " 'backwards',\n",
       " 'radicati',\n",
       " 'imminent',\n",
       " 'safari',\n",
       " 'explorer',\n",
       " 'netscap',\n",
       " 'onestatcom',\n",
       " 'duty',\n",
       " 'wallet',\n",
       " 'sgc',\n",
       " 'anymor',\n",
       " 'shuffl',\n",
       " 'hinder',\n",
       " '499',\n",
       " 'finale',\n",
       " 'shield',\n",
       " 'needless',\n",
       " 'predicts',\n",
       " 'twist',\n",
       " 'worrying',\n",
       " 'hoax',\n",
       " 'privi',\n",
       " 'offers',\n",
       " 'by',\n",
       " 'icm',\n",
       " 'mileston',\n",
       " '156',\n",
       " 'amiga',\n",
       " 'oncefam',\n",
       " 'unforc',\n",
       " 'valuat',\n",
       " 'catchi',\n",
       " 'instruments',\n",
       " '139',\n",
       " 'mikko',\n",
       " 'krivorizhst',\n",
       " 'ruled',\n",
       " '10day',\n",
       " 'losses',\n",
       " '6ft',\n",
       " 'represented',\n",
       " '420',\n",
       " 'secc',\n",
       " 'reschedul',\n",
       " 'jobcentr',\n",
       " 'anticorrupt',\n",
       " 'learnt',\n",
       " 'banner',\n",
       " 'nonexecut',\n",
       " 'yakubu',\n",
       " 'kenzi',\n",
       " 'primu',\n",
       " 'stranglehold',\n",
       " 'obstacl',\n",
       " 'arjan',\n",
       " '97',\n",
       " 'quashi',\n",
       " '324',\n",
       " 'lieuten',\n",
       " 'vh1',\n",
       " 'segreg',\n",
       " 'eoc',\n",
       " 'hardcor',\n",
       " 'misconcept',\n",
       " 'bingo',\n",
       " 'workabl',\n",
       " 'abused',\n",
       " 'ramp',\n",
       " 'massmarket',\n",
       " 'persia',\n",
       " 'threatened',\n",
       " 'officer',\n",
       " 'ignored',\n",
       " 'buckingham',\n",
       " 'hellen',\n",
       " 'dropped',\n",
       " 'allardyc',\n",
       " 'nominees',\n",
       " 'garner',\n",
       " 'mathieson',\n",
       " 'cinematograph',\n",
       " 'rightfoot',\n",
       " 'carlsen',\n",
       " 'hector',\n",
       " 'festen',\n",
       " 'theatrego',\n",
       " 'powell',\n",
       " 'alexandra',\n",
       " 'ashvin',\n",
       " 'mckendri',\n",
       " 'motormouth',\n",
       " 'northwest',\n",
       " 'depardieu',\n",
       " 'figaro',\n",
       " 'hypponen',\n",
       " 'dilemma',\n",
       " 'ensu',\n",
       " 'lager',\n",
       " 'mathemat',\n",
       " 'wiltshir',\n",
       " '188',\n",
       " 'avonex',\n",
       " '31bn',\n",
       " 'upsurg',\n",
       " 'busiest',\n",
       " 'reinsur',\n",
       " 'serg',\n",
       " 'gaug',\n",
       " 'worsthit',\n",
       " 'spun',\n",
       " 'scientif',\n",
       " 'lionhead',\n",
       " 'apology',\n",
       " 'westminster',\n",
       " 'offlin',\n",
       " 'volumes',\n",
       " 'library',\n",
       " 'reel',\n",
       " 'headbut',\n",
       " 'headbutt',\n",
       " 'delhi',\n",
       " '1952',\n",
       " 'consumption',\n",
       " 'generos',\n",
       " 'connolli',\n",
       " 'rspca',\n",
       " 'fearn',\n",
       " 'mc',\n",
       " 'dre',\n",
       " 'proteg',\n",
       " 'liveshot',\n",
       " 'remotecontrol',\n",
       " 'shade',\n",
       " 'missing',\n",
       " '29yearold',\n",
       " 'standbi',\n",
       " 'repayments',\n",
       " 'jakarta',\n",
       " 'phuket',\n",
       " 'raf',\n",
       " 'catholics',\n",
       " 'roman',\n",
       " 'autograph',\n",
       " 'century',\n",
       " 'emma',\n",
       " '14yearold',\n",
       " 'jackass',\n",
       " 'uncondit',\n",
       " 'interpol',\n",
       " 'interested',\n",
       " 'faltskog',\n",
       " 'kudo',\n",
       " 'extradit',\n",
       " 'cartel',\n",
       " 'sanku',\n",
       " '425',\n",
       " 'sidefoot',\n",
       " 'paradis',\n",
       " 'sylvain',\n",
       " 'distin',\n",
       " 'muchneed',\n",
       " 'mg',\n",
       " 'musampa',\n",
       " 'barton',\n",
       " 'sibierski',\n",
       " 'prey',\n",
       " 'draconian',\n",
       " 'prosecutions',\n",
       " 'fabrega',\n",
       " 'mathieu',\n",
       " 'imparti',\n",
       " 'nonresid',\n",
       " 'hussein',\n",
       " 'cuckoo',\n",
       " 'void',\n",
       " 'exlabour',\n",
       " 'barrymor',\n",
       " 'vatican',\n",
       " 'os2',\n",
       " 'nippon',\n",
       " 'baoshan',\n",
       " 'clair',\n",
       " 'cowrit',\n",
       " 'closest',\n",
       " 'brass',\n",
       " 'payer',\n",
       " 'spurn',\n",
       " 'wight',\n",
       " 'towns',\n",
       " 'vocat',\n",
       " 'mardi',\n",
       " 'jess',\n",
       " 'teeter',\n",
       " 'gee',\n",
       " 'unherald',\n",
       " 'minibreak',\n",
       " 'costacurta',\n",
       " 'plp',\n",
       " 'nest',\n",
       " 'technologydomin',\n",
       " 'irrespect',\n",
       " 'brick',\n",
       " 'stoog',\n",
       " 'surreal',\n",
       " '1930',\n",
       " 'germain',\n",
       " 'replica',\n",
       " 'kgb',\n",
       " 'zenden',\n",
       " 'cursor',\n",
       " 'fc',\n",
       " 'feloni',\n",
       " 'romanc',\n",
       " '129',\n",
       " 'parri',\n",
       " 'springboard',\n",
       " 'revert',\n",
       " 'flank',\n",
       " 'standoff',\n",
       " 'eyr',\n",
       " 'mms',\n",
       " 'tongu',\n",
       " 'jewel',\n",
       " 'feroci',\n",
       " 'expensive',\n",
       " 'guis',\n",
       " 'merchandis',\n",
       " 'materials',\n",
       " 'processors',\n",
       " 'variat',\n",
       " 'fishermen',\n",
       " 'terrif',\n",
       " 'g4',\n",
       " 'authority',\n",
       " 'jake',\n",
       " 'customari',\n",
       " 'chaplin',\n",
       " 'antiqu',\n",
       " 'objection',\n",
       " 'delays',\n",
       " 'inventor',\n",
       " 'difficulties',\n",
       " 'hacan',\n",
       " 'borough',\n",
       " 'takeoff',\n",
       " 'prater',\n",
       " 'seifert',\n",
       " 'dawn',\n",
       " 'started',\n",
       " 'et',\n",
       " 'woeful',\n",
       " 'orlando',\n",
       " 'baywatch',\n",
       " 'drown',\n",
       " 'smartcard',\n",
       " 'costcut',\n",
       " 'leant',\n",
       " 'monsoon',\n",
       " 'terrorists',\n",
       " 'breadth',\n",
       " '43m',\n",
       " 'wow',\n",
       " 'cartagena',\n",
       " 'glitch',\n",
       " 'cochilco',\n",
       " 'offering',\n",
       " 'navi',\n",
       " 'seagat',\n",
       " '5gb',\n",
       " 'playoff',\n",
       " 'mydoom',\n",
       " 'sublim',\n",
       " 'seizur',\n",
       " 'believe',\n",
       " 'ravi',\n",
       " 'ravenhil',\n",
       " 'mcindo',\n",
       " 'mainland',\n",
       " 'toolbar',\n",
       " 'blinkx',\n",
       " 'eva',\n",
       " 'tsunamihit',\n",
       " 'slovenia',\n",
       " 'he',\n",
       " 'setup',\n",
       " 'velimir',\n",
       " 'zajec',\n",
       " 'mackenzi',\n",
       " 'nutter',\n",
       " 'aitken',\n",
       " 'wrestl',\n",
       " 'jockey',\n",
       " 'bryan',\n",
       " 'leapfrog',\n",
       " 'zinc',\n",
       " 'coloni',\n",
       " 'conting',\n",
       " 'rigoglioso',\n",
       " 'sherwood',\n",
       " 'moham',\n",
       " 'buyers',\n",
       " 'allinon',\n",
       " 'mawrey',\n",
       " 'nec',\n",
       " 'voterig',\n",
       " 'marker',\n",
       " 'completed',\n",
       " 'competitors',\n",
       " 'algorithm',\n",
       " 'pixels',\n",
       " 'mandatori',\n",
       " 'prostitut',\n",
       " 'inconveni',\n",
       " 'cables',\n",
       " 'opportunities',\n",
       " 'delivered',\n",
       " 'adaware',\n",
       " 'mayerhofl',\n",
       " 'redirect',\n",
       " 'narraway',\n",
       " 'basketbal',\n",
       " 'rightmov',\n",
       " 'seasonend',\n",
       " 'preach',\n",
       " 'batch',\n",
       " 'semi',\n",
       " 'appetit',\n",
       " 'makower',\n",
       " 'paraguay',\n",
       " 'controversy',\n",
       " 'makow',\n",
       " 'orient',\n",
       " 'filippo',\n",
       " '196',\n",
       " 'novak',\n",
       " 'jiri',\n",
       " 'insurance',\n",
       " 'onstag',\n",
       " 'genocid',\n",
       " 'verifi',\n",
       " 'easygroup',\n",
       " 'trademark',\n",
       " 'jinshajiang',\n",
       " 'heritag',\n",
       " 'tesco',\n",
       " 'haka',\n",
       " 'threetest',\n",
       " 'duck',\n",
       " 'insolv',\n",
       " '28bn',\n",
       " 'courier',\n",
       " 'practice',\n",
       " 'unbundl',\n",
       " 'ziyi',\n",
       " 'fide',\n",
       " 'helm',\n",
       " 'hungari',\n",
       " 'suburb',\n",
       " 'dane',\n",
       " 'sedgefield',\n",
       " 'cause',\n",
       " 'caspian',\n",
       " '280bn',\n",
       " 'unedit',\n",
       " 'lawyers',\n",
       " 'seriously',\n",
       " 'tribunal',\n",
       " 'wippit',\n",
       " 'cater',\n",
       " 'spray',\n",
       " 'geoffrey',\n",
       " 'arteta',\n",
       " 'barber',\n",
       " 'lombard',\n",
       " 'onematch',\n",
       " 'removed',\n",
       " '575',\n",
       " 'tightli',\n",
       " 'entrant',\n",
       " 'bunch',\n",
       " 'bro',\n",
       " 'oasi',\n",
       " 'annoy',\n",
       " 'ceremonies',\n",
       " 'linesman',\n",
       " 'rue',\n",
       " 'quietli',\n",
       " 'sixyearold',\n",
       " 'connections',\n",
       " 'revolutionari',\n",
       " 'tickets',\n",
       " 'shower',\n",
       " '1940',\n",
       " '1954',\n",
       " 'sidney',\n",
       " 'alic',\n",
       " 'cedric',\n",
       " 'mfa',\n",
       " 'rifkin',\n",
       " 'pend',\n",
       " '166bn',\n",
       " 'inkjet',\n",
       " '113',\n",
       " '1953',\n",
       " '88',\n",
       " 'engine',\n",
       " 'sevenmonth',\n",
       " 'shortliv',\n",
       " 'illfat',\n",
       " '1988',\n",
       " 'neglect',\n",
       " 'pet',\n",
       " 'cruelti',\n",
       " 'angler',\n",
       " 'prof',\n",
       " 'ditto',\n",
       " 'sybari',\n",
       " 'po',\n",
       " 'peck',\n",
       " 'increases',\n",
       " 'canni',\n",
       " 'casinos',\n",
       " '18month',\n",
       " 'foil',\n",
       " 'walden',\n",
       " 'usl',\n",
       " 'oneday',\n",
       " 'swipe',\n",
       " 'grief',\n",
       " 'mantl',\n",
       " 'impressions',\n",
       " 'mariano',\n",
       " 'whenev',\n",
       " 'sympathi',\n",
       " 'tidal',\n",
       " 'agencies',\n",
       " ...]"
      ]
     },
     "execution_count": 26,
     "metadata": {},
     "output_type": "execute_result"
    }
   ],
   "source": [
    "freq3 = list(freq2.index.values)\n",
    "freq3"
   ]
  },
  {
   "cell_type": "code",
   "execution_count": 27,
   "id": "fb18b295",
   "metadata": {
    "id": "fb18b295"
   },
   "outputs": [],
   "source": [
    "#df['news_porter_stemmed'] = df['news_porter_stemmed'].apply(lambda x: ' '.join([word for word in x.split() if word not in (freq3)]))"
   ]
  },
  {
   "cell_type": "code",
   "execution_count": 28,
   "id": "a9e49742",
   "metadata": {
    "id": "a9e49742"
   },
   "outputs": [],
   "source": [
    "data = df[['Category', 'category_id', 'news_porter_stemmed']]"
   ]
  },
  {
   "cell_type": "code",
   "execution_count": 29,
   "id": "fe612ced",
   "metadata": {
    "colab": {
     "base_uri": "https://localhost:8080/",
     "height": 206
    },
    "id": "fe612ced",
    "outputId": "777cd75f-c53e-4b56-e665-8cb667973b4a"
   },
   "outputs": [
    {
     "data": {
      "text/html": [
       "\n",
       "  <div id=\"df-24eb2b39-21e8-4e34-93bb-75bfcf36d542\">\n",
       "    <div class=\"colab-df-container\">\n",
       "      <div>\n",
       "<style scoped>\n",
       "    .dataframe tbody tr th:only-of-type {\n",
       "        vertical-align: middle;\n",
       "    }\n",
       "\n",
       "    .dataframe tbody tr th {\n",
       "        vertical-align: top;\n",
       "    }\n",
       "\n",
       "    .dataframe thead th {\n",
       "        text-align: right;\n",
       "    }\n",
       "</style>\n",
       "<table border=\"1\" class=\"dataframe\">\n",
       "  <thead>\n",
       "    <tr style=\"text-align: right;\">\n",
       "      <th></th>\n",
       "      <th>Category</th>\n",
       "      <th>category_id</th>\n",
       "      <th>news_porter_stemmed</th>\n",
       "    </tr>\n",
       "  </thead>\n",
       "  <tbody>\n",
       "    <tr>\n",
       "      <th>0</th>\n",
       "      <td>business</td>\n",
       "      <td>0</td>\n",
       "      <td>worldcom exboss launch defenc lawyer defend fo...</td>\n",
       "    </tr>\n",
       "    <tr>\n",
       "      <th>1</th>\n",
       "      <td>business</td>\n",
       "      <td>0</td>\n",
       "      <td>german busi confid slide german busi confid fe...</td>\n",
       "    </tr>\n",
       "    <tr>\n",
       "      <th>2</th>\n",
       "      <td>business</td>\n",
       "      <td>0</td>\n",
       "      <td>bbc poll indic econom gloom citizen major nati...</td>\n",
       "    </tr>\n",
       "    <tr>\n",
       "      <th>3</th>\n",
       "      <td>tech</td>\n",
       "      <td>1</td>\n",
       "      <td>lifestyl govern mobil choic faster better funk...</td>\n",
       "    </tr>\n",
       "    <tr>\n",
       "      <th>4</th>\n",
       "      <td>business</td>\n",
       "      <td>0</td>\n",
       "      <td>enron boss 168m payout eighteen former enron d...</td>\n",
       "    </tr>\n",
       "  </tbody>\n",
       "</table>\n",
       "</div>\n",
       "      <button class=\"colab-df-convert\" onclick=\"convertToInteractive('df-24eb2b39-21e8-4e34-93bb-75bfcf36d542')\"\n",
       "              title=\"Convert this dataframe to an interactive table.\"\n",
       "              style=\"display:none;\">\n",
       "        \n",
       "  <svg xmlns=\"http://www.w3.org/2000/svg\" height=\"24px\"viewBox=\"0 0 24 24\"\n",
       "       width=\"24px\">\n",
       "    <path d=\"M0 0h24v24H0V0z\" fill=\"none\"/>\n",
       "    <path d=\"M18.56 5.44l.94 2.06.94-2.06 2.06-.94-2.06-.94-.94-2.06-.94 2.06-2.06.94zm-11 1L8.5 8.5l.94-2.06 2.06-.94-2.06-.94L8.5 2.5l-.94 2.06-2.06.94zm10 10l.94 2.06.94-2.06 2.06-.94-2.06-.94-.94-2.06-.94 2.06-2.06.94z\"/><path d=\"M17.41 7.96l-1.37-1.37c-.4-.4-.92-.59-1.43-.59-.52 0-1.04.2-1.43.59L10.3 9.45l-7.72 7.72c-.78.78-.78 2.05 0 2.83L4 21.41c.39.39.9.59 1.41.59.51 0 1.02-.2 1.41-.59l7.78-7.78 2.81-2.81c.8-.78.8-2.07 0-2.86zM5.41 20L4 18.59l7.72-7.72 1.47 1.35L5.41 20z\"/>\n",
       "  </svg>\n",
       "      </button>\n",
       "      \n",
       "  <style>\n",
       "    .colab-df-container {\n",
       "      display:flex;\n",
       "      flex-wrap:wrap;\n",
       "      gap: 12px;\n",
       "    }\n",
       "\n",
       "    .colab-df-convert {\n",
       "      background-color: #E8F0FE;\n",
       "      border: none;\n",
       "      border-radius: 50%;\n",
       "      cursor: pointer;\n",
       "      display: none;\n",
       "      fill: #1967D2;\n",
       "      height: 32px;\n",
       "      padding: 0 0 0 0;\n",
       "      width: 32px;\n",
       "    }\n",
       "\n",
       "    .colab-df-convert:hover {\n",
       "      background-color: #E2EBFA;\n",
       "      box-shadow: 0px 1px 2px rgba(60, 64, 67, 0.3), 0px 1px 3px 1px rgba(60, 64, 67, 0.15);\n",
       "      fill: #174EA6;\n",
       "    }\n",
       "\n",
       "    [theme=dark] .colab-df-convert {\n",
       "      background-color: #3B4455;\n",
       "      fill: #D2E3FC;\n",
       "    }\n",
       "\n",
       "    [theme=dark] .colab-df-convert:hover {\n",
       "      background-color: #434B5C;\n",
       "      box-shadow: 0px 1px 3px 1px rgba(0, 0, 0, 0.15);\n",
       "      filter: drop-shadow(0px 1px 2px rgba(0, 0, 0, 0.3));\n",
       "      fill: #FFFFFF;\n",
       "    }\n",
       "  </style>\n",
       "\n",
       "      <script>\n",
       "        const buttonEl =\n",
       "          document.querySelector('#df-24eb2b39-21e8-4e34-93bb-75bfcf36d542 button.colab-df-convert');\n",
       "        buttonEl.style.display =\n",
       "          google.colab.kernel.accessAllowed ? 'block' : 'none';\n",
       "\n",
       "        async function convertToInteractive(key) {\n",
       "          const element = document.querySelector('#df-24eb2b39-21e8-4e34-93bb-75bfcf36d542');\n",
       "          const dataTable =\n",
       "            await google.colab.kernel.invokeFunction('convertToInteractive',\n",
       "                                                     [key], {});\n",
       "          if (!dataTable) return;\n",
       "\n",
       "          const docLinkHtml = 'Like what you see? Visit the ' +\n",
       "            '<a target=\"_blank\" href=https://colab.research.google.com/notebooks/data_table.ipynb>data table notebook</a>'\n",
       "            + ' to learn more about interactive tables.';\n",
       "          element.innerHTML = '';\n",
       "          dataTable['output_type'] = 'display_data';\n",
       "          await google.colab.output.renderOutput(dataTable, element);\n",
       "          const docLink = document.createElement('div');\n",
       "          docLink.innerHTML = docLinkHtml;\n",
       "          element.appendChild(docLink);\n",
       "        }\n",
       "      </script>\n",
       "    </div>\n",
       "  </div>\n",
       "  "
      ],
      "text/plain": [
       "   Category  category_id                                news_porter_stemmed\n",
       "0  business            0  worldcom exboss launch defenc lawyer defend fo...\n",
       "1  business            0  german busi confid slide german busi confid fe...\n",
       "2  business            0  bbc poll indic econom gloom citizen major nati...\n",
       "3      tech            1  lifestyl govern mobil choic faster better funk...\n",
       "4  business            0  enron boss 168m payout eighteen former enron d..."
      ]
     },
     "execution_count": 29,
     "metadata": {},
     "output_type": "execute_result"
    }
   ],
   "source": [
    "data.head()"
   ]
  },
  {
   "cell_type": "code",
   "execution_count": 30,
   "id": "b9d0910c",
   "metadata": {
    "id": "b9d0910c"
   },
   "outputs": [],
   "source": [
    "from sklearn.feature_extraction.text import TfidfVectorizer\n",
    "\n",
    "tfidf = TfidfVectorizer(sublinear_tf=True, min_df=5, norm='l2', encoding='latin-1', ngram_range=(1, 2))"
   ]
  },
  {
   "cell_type": "code",
   "execution_count": 31,
   "id": "0e42debd",
   "metadata": {
    "colab": {
     "base_uri": "https://localhost:8080/"
    },
    "id": "0e42debd",
    "outputId": "babd7fc0-344e-419a-b428-eb010ae0d9e1"
   },
   "outputs": [
    {
     "data": {
      "text/plain": [
       "(1401, 9188)"
      ]
     },
     "execution_count": 31,
     "metadata": {},
     "output_type": "execute_result"
    }
   ],
   "source": [
    "features = tfidf.fit_transform(data.news_porter_stemmed).toarray()\n",
    "labels = data.category_id\n",
    "features.shape"
   ]
  },
  {
   "cell_type": "code",
   "execution_count": 32,
   "id": "81992aef",
   "metadata": {
    "id": "81992aef"
   },
   "outputs": [],
   "source": [
    "data.columns = ['newstype', 'category_id', 'news_porter_stemmed']\n",
    "category_id_df = data[['newstype', 'category_id']].drop_duplicates().sort_values('category_id')\n",
    "category_to_id = dict(category_id_df.values)\n",
    "id_to_category = dict(category_id_df[['category_id', 'newstype']].values)"
   ]
  },
  {
   "cell_type": "code",
   "execution_count": 425,
   "id": "0d4d089a",
   "metadata": {
    "colab": {
     "base_uri": "https://localhost:8080/",
     "height": 139
    },
    "id": "0d4d089a",
    "outputId": "87646d5c-9235-4e21-9de2-e6aa83e79d85"
   },
   "outputs": [
    {
     "data": {
      "application/vnd.google.colaboratory.intrinsic+json": {
       "type": "string"
      },
      "text/plain": [
       "'from sklearn.feature_selection import chi2\\n\\nN = 5\\nfor newstype, category_id in sorted(category_to_id.items()):\\n    features_chi2 = chi2(features, labels == category_id)\\n    indices = np.argsort(features_chi2[0])\\n    feature_names = np.array(tfidf.get_feature_names())[indices]\\n    unigrams = [v for v in feature_names if len(v.split(\\' \\')) == 1]\\n    bigrams = [v for v in feature_names if len(v.split(\\' \\')) == 2]\\n    print(\"# \\'{}\\':\".format(newstype))\\n    print(\"  . Most correlated unigrams:\\n       . {}\".format(\\'\\n       . \\'.join(unigrams[-N:])))\\n    print(\"  . Most correlated bigrams:\\n       . {}\".format(\\'\\n       . \\'.join(bigrams[-N:])))'"
      ]
     },
     "execution_count": 425,
     "metadata": {},
     "output_type": "execute_result"
    }
   ],
   "source": [
    "'''from sklearn.feature_selection import chi2\n",
    "\n",
    "N = 5\n",
    "for newstype, category_id in sorted(category_to_id.items()):\n",
    "    features_chi2 = chi2(features, labels == category_id)\n",
    "    indices = np.argsort(features_chi2[0])\n",
    "    feature_names = np.array(tfidf.get_feature_names())[indices]\n",
    "    unigrams = [v for v in feature_names if len(v.split(' ')) == 1]\n",
    "    bigrams = [v for v in feature_names if len(v.split(' ')) == 2]\n",
    "    print(\"# '{}':\".format(newstype))\n",
    "    print(\"  . Most correlated unigrams:\\n       . {}\".format('\\n       . '.join(unigrams[-N:])))\n",
    "    print(\"  . Most correlated bigrams:\\n       . {}\".format('\\n       . '.join(bigrams[-N:])))'''"
   ]
  },
  {
   "cell_type": "code",
   "execution_count": 34,
   "id": "06731f1b",
   "metadata": {
    "colab": {
     "base_uri": "https://localhost:8080/"
    },
    "id": "06731f1b",
    "outputId": "8402c8ff-ceb4-461b-cd36-9143528cea6a"
   },
   "outputs": [
    {
     "name": "stderr",
     "output_type": "stream",
     "text": [
      "/usr/local/lib/python3.8/dist-packages/sklearn/manifold/_t_sne.py:780: FutureWarning: The default initialization in TSNE will change from 'random' to 'pca' in 1.2.\n",
      "  warnings.warn(\n",
      "/usr/local/lib/python3.8/dist-packages/sklearn/manifold/_t_sne.py:790: FutureWarning: The default learning rate in TSNE will change from 200.0 to 'auto' in 1.2.\n",
      "  warnings.warn(\n"
     ]
    }
   ],
   "source": [
    "from sklearn.manifold import TSNE\n",
    "\n",
    "# Sampling a subset of our dataset because t-SNE is computationally expensive\n",
    "SAMPLE_SIZE = int(len(features) * 0.3)\n",
    "np.random.seed(0)\n",
    "indices = np.random.choice(range(len(features)), size=SAMPLE_SIZE, replace=False)\n",
    "projected_features = TSNE(n_components=2, random_state=0).fit_transform(features[indices])\n",
    "colors = ['pink', 'green', 'midnightblue', 'orange', 'darkgrey']"
   ]
  },
  {
   "cell_type": "code",
   "execution_count": 424,
   "id": "aa884d46",
   "metadata": {
    "colab": {
     "base_uri": "https://localhost:8080/",
     "height": 87
    },
    "id": "aa884d46",
    "outputId": "de7e24f5-9bfa-4a6d-9a5a-2e136061cfaf"
   },
   "outputs": [
    {
     "data": {
      "application/vnd.google.colaboratory.intrinsic+json": {
       "type": "string"
      },
      "text/plain": [
       "'for category, category_id in sorted(category_to_id.items()):\\n    points = projected_features[(labels[indices] == category_id).values]\\n    plt.scatter(points[:, 0], points[:, 1], s=30, c=colors[category_id], label=category)\\nplt.title(\"tf-idf feature vector for each article, projected on 2 dimensions.\",\\n          fontdict=dict(fontsize=15))\\nplt.legend()'"
      ]
     },
     "execution_count": 424,
     "metadata": {},
     "output_type": "execute_result"
    }
   ],
   "source": [
    "'''for category, category_id in sorted(category_to_id.items()):\n",
    "    points = projected_features[(labels[indices] == category_id).values]\n",
    "    plt.scatter(points[:, 0], points[:, 1], s=30, c=colors[category_id], label=category)\n",
    "plt.title(\"tf-idf feature vector for each article, projected on 2 dimensions.\",\n",
    "          fontdict=dict(fontsize=15))\n",
    "plt.legend()'''"
   ]
  },
  {
   "cell_type": "code",
   "execution_count": 38,
   "id": "e-Vf1S3GSZcw",
   "metadata": {
    "id": "e-Vf1S3GSZcw"
   },
   "outputs": [],
   "source": [
    "from lazypredict.Supervised import LazyClassifier\n",
    "from sklearn.model_selection import train_test_split"
   ]
  },
  {
   "cell_type": "code",
   "execution_count": 39,
   "id": "_3KboG2XTT3b",
   "metadata": {
    "id": "_3KboG2XTT3b"
   },
   "outputs": [],
   "source": [
    "x_train,x_test,y_train,y_test=train_test_split(features, labels, test_size=0.3, random_state=123)"
   ]
  },
  {
   "cell_type": "code",
   "execution_count": 40,
   "id": "OHSiRP14TCbO",
   "metadata": {
    "colab": {
     "base_uri": "https://localhost:8080/"
    },
    "id": "OHSiRP14TCbO",
    "outputId": "cc65878c-46d7-4aca-b2a1-178e37b6c913"
   },
   "outputs": [
    {
     "name": "stderr",
     "output_type": "stream",
     "text": [
      "100%|██████████| 29/29 [14:26<00:00, 29.89s/it]\n"
     ]
    }
   ],
   "source": [
    "clf=LazyClassifier()\n",
    "models,predictions=clf.fit(x_train,x_test,y_train,y_test)"
   ]
  },
  {
   "cell_type": "code",
   "execution_count": 41,
   "id": "-7IAfcR8XDxo",
   "metadata": {
    "colab": {
     "base_uri": "https://localhost:8080/"
    },
    "id": "-7IAfcR8XDxo",
    "outputId": "197b8f38-b879-4e21-e5e8-4c15a5431b33"
   },
   "outputs": [
    {
     "name": "stdout",
     "output_type": "stream",
     "text": [
      "                             Accuracy  Balanced Accuracy ROC AUC  F1 Score  \\\n",
      "Model                                                                        \n",
      "Perceptron                       0.98               0.98    None      0.98   \n",
      "LinearSVC                        0.98               0.98    None      0.98   \n",
      "PassiveAggressiveClassifier      0.98               0.98    None      0.98   \n",
      "LogisticRegression               0.98               0.98    None      0.98   \n",
      "CalibratedClassifierCV           0.98               0.98    None      0.98   \n",
      "RidgeClassifier                  0.96               0.96    None      0.96   \n",
      "RidgeClassifierCV                0.96               0.96    None      0.96   \n",
      "SGDClassifier                    0.96               0.96    None      0.96   \n",
      "NearestCentroid                  0.96               0.96    None      0.96   \n",
      "ExtraTreesClassifier             0.95               0.94    None      0.95   \n",
      "BernoulliNB                      0.94               0.94    None      0.94   \n",
      "XGBClassifier                    0.94               0.93    None      0.94   \n",
      "LGBMClassifier                   0.93               0.93    None      0.93   \n",
      "RandomForestClassifier           0.93               0.93    None      0.93   \n",
      "GaussianNB                       0.89               0.88    None      0.89   \n",
      "BaggingClassifier                0.88               0.88    None      0.88   \n",
      "SVC                              0.84               0.84    None      0.85   \n",
      "DecisionTreeClassifier           0.81               0.81    None      0.81   \n",
      "ExtraTreeClassifier              0.70               0.69    None      0.70   \n",
      "AdaBoostClassifier               0.66               0.67    None      0.66   \n",
      "KNeighborsClassifier             0.50               0.46    None      0.46   \n",
      "LinearDiscriminantAnalysis       0.33               0.35    None      0.35   \n",
      "LabelSpreading                   0.28               0.25    None      0.17   \n",
      "LabelPropagation                 0.28               0.25    None      0.17   \n",
      "DummyClassifier                  0.22               0.20    None      0.08   \n",
      "\n",
      "                             Time Taken  \n",
      "Model                                    \n",
      "Perceptron                         1.85  \n",
      "LinearSVC                        138.46  \n",
      "PassiveAggressiveClassifier        4.11  \n",
      "LogisticRegression                 9.96  \n",
      "CalibratedClassifierCV           531.52  \n",
      "RidgeClassifier                    1.14  \n",
      "RidgeClassifierCV                  1.60  \n",
      "SGDClassifier                      1.50  \n",
      "NearestCentroid                    0.84  \n",
      "ExtraTreesClassifier               2.69  \n",
      "BernoulliNB                        0.66  \n",
      "XGBClassifier                    110.28  \n",
      "LGBMClassifier                    20.13  \n",
      "RandomForestClassifier             2.24  \n",
      "GaussianNB                         0.74  \n",
      "BaggingClassifier                  3.99  \n",
      "SVC                               14.12  \n",
      "DecisionTreeClassifier             1.21  \n",
      "ExtraTreeClassifier                0.54  \n",
      "AdaBoostClassifier                 8.31  \n",
      "KNeighborsClassifier               0.81  \n",
      "LinearDiscriminantAnalysis         5.66  \n",
      "LabelSpreading                     1.28  \n",
      "LabelPropagation                   1.25  \n",
      "DummyClassifier                    0.49  \n"
     ]
    }
   ],
   "source": [
    "print(models)"
   ]
  },
  {
   "cell_type": "code",
   "execution_count": 42,
   "id": "D4pQPHKjXOlN",
   "metadata": {
    "colab": {
     "base_uri": "https://localhost:8080/"
    },
    "id": "D4pQPHKjXOlN",
    "outputId": "4861b376-d545-4baa-b851-aee18fdde967"
   },
   "outputs": [
    {
     "name": "stdout",
     "output_type": "stream",
     "text": [
      "                             Accuracy  Balanced Accuracy ROC AUC  F1 Score  \\\n",
      "Model                                                                        \n",
      "Perceptron                       0.98               0.98    None      0.98   \n",
      "LinearSVC                        0.98               0.98    None      0.98   \n",
      "PassiveAggressiveClassifier      0.98               0.98    None      0.98   \n",
      "LogisticRegression               0.98               0.98    None      0.98   \n",
      "CalibratedClassifierCV           0.98               0.98    None      0.98   \n",
      "RidgeClassifier                  0.96               0.96    None      0.96   \n",
      "RidgeClassifierCV                0.96               0.96    None      0.96   \n",
      "SGDClassifier                    0.96               0.96    None      0.96   \n",
      "NearestCentroid                  0.96               0.96    None      0.96   \n",
      "ExtraTreesClassifier             0.95               0.94    None      0.95   \n",
      "BernoulliNB                      0.94               0.94    None      0.94   \n",
      "XGBClassifier                    0.94               0.93    None      0.94   \n",
      "LGBMClassifier                   0.93               0.93    None      0.93   \n",
      "RandomForestClassifier           0.93               0.93    None      0.93   \n",
      "GaussianNB                       0.89               0.88    None      0.89   \n",
      "BaggingClassifier                0.88               0.88    None      0.88   \n",
      "SVC                              0.84               0.84    None      0.85   \n",
      "DecisionTreeClassifier           0.81               0.81    None      0.81   \n",
      "ExtraTreeClassifier              0.70               0.69    None      0.70   \n",
      "AdaBoostClassifier               0.66               0.67    None      0.66   \n",
      "KNeighborsClassifier             0.50               0.46    None      0.46   \n",
      "LinearDiscriminantAnalysis       0.33               0.35    None      0.35   \n",
      "LabelSpreading                   0.28               0.25    None      0.17   \n",
      "LabelPropagation                 0.28               0.25    None      0.17   \n",
      "DummyClassifier                  0.22               0.20    None      0.08   \n",
      "\n",
      "                             Time Taken  \n",
      "Model                                    \n",
      "Perceptron                         1.85  \n",
      "LinearSVC                        138.46  \n",
      "PassiveAggressiveClassifier        4.11  \n",
      "LogisticRegression                 9.96  \n",
      "CalibratedClassifierCV           531.52  \n",
      "RidgeClassifier                    1.14  \n",
      "RidgeClassifierCV                  1.60  \n",
      "SGDClassifier                      1.50  \n",
      "NearestCentroid                    0.84  \n",
      "ExtraTreesClassifier               2.69  \n",
      "BernoulliNB                        0.66  \n",
      "XGBClassifier                    110.28  \n",
      "LGBMClassifier                    20.13  \n",
      "RandomForestClassifier             2.24  \n",
      "GaussianNB                         0.74  \n",
      "BaggingClassifier                  3.99  \n",
      "SVC                               14.12  \n",
      "DecisionTreeClassifier             1.21  \n",
      "ExtraTreeClassifier                0.54  \n",
      "AdaBoostClassifier                 8.31  \n",
      "KNeighborsClassifier               0.81  \n",
      "LinearDiscriminantAnalysis         5.66  \n",
      "LabelSpreading                     1.28  \n",
      "LabelPropagation                   1.25  \n",
      "DummyClassifier                    0.49  \n"
     ]
    }
   ],
   "source": [
    "print(predictions)"
   ]
  },
  {
   "cell_type": "code",
   "execution_count": 43,
   "id": "736dfe9e",
   "metadata": {
    "colab": {
     "base_uri": "https://localhost:8080/"
    },
    "id": "736dfe9e",
    "outputId": "2069e55b-9af4-4e45-b456-0dd0683eb32b"
   },
   "outputs": [
    {
     "data": {
      "text/plain": [
       "[('RandomForestClassifier', 0, 0.9359430604982206),\n",
       " ('RandomForestClassifier', 1, 0.9142857142857143),\n",
       " ('RandomForestClassifier', 2, 0.9678571428571429),\n",
       " ('RandomForestClassifier', 3, 0.9607142857142857),\n",
       " ('RandomForestClassifier', 4, 0.9714285714285714),\n",
       " ('MultinomialNB', 0, 0.9572953736654805),\n",
       " ('MultinomialNB', 1, 0.9535714285714286),\n",
       " ('MultinomialNB', 2, 0.9714285714285714),\n",
       " ('MultinomialNB', 3, 0.9821428571428571),\n",
       " ('MultinomialNB', 4, 0.975),\n",
       " ('ComplementNB', 0, 0.9715302491103203),\n",
       " ('ComplementNB', 1, 0.9642857142857143),\n",
       " ('ComplementNB', 2, 0.975),\n",
       " ('ComplementNB', 3, 0.9857142857142858),\n",
       " ('ComplementNB', 4, 0.9857142857142858),\n",
       " ('LogisticRegression', 0, 0.9715302491103203),\n",
       " ('LogisticRegression', 1, 0.9607142857142857),\n",
       " ('LogisticRegression', 2, 0.9714285714285714),\n",
       " ('LogisticRegression', 3, 0.9892857142857143),\n",
       " ('LogisticRegression', 4, 0.9785714285714285)]"
      ]
     },
     "execution_count": 43,
     "metadata": {},
     "output_type": "execute_result"
    }
   ],
   "source": [
    "from sklearn.linear_model import LogisticRegression\n",
    "from sklearn.ensemble import RandomForestClassifier\n",
    "from sklearn.naive_bayes import MultinomialNB\n",
    "from sklearn.naive_bayes import ComplementNB\n",
    "from sklearn.svm import SVC\n",
    "from sklearn.model_selection import cross_val_score\n",
    "\n",
    "\n",
    "models = [\n",
    "    RandomForestClassifier(n_estimators=200, criterion='entropy'),\n",
    "    MultinomialNB(),\n",
    "    ComplementNB(),\n",
    "    LogisticRegression(random_state=0),\n",
    "]\n",
    "CV = 5\n",
    "l=[]\n",
    "cv_df = pd.DataFrame(index=range(CV * len(models)))\n",
    "entries = []\n",
    "for model in models:\n",
    "    model_name = model.__class__.__name__\n",
    "    accuracies = cross_val_score(model, features, labels, scoring='accuracy', cv=CV)\n",
    "    for fold_idx, accuracy in enumerate(accuracies):\n",
    "        entries.append((model_name, fold_idx, accuracy))\n",
    "cv_df = pd.DataFrame(entries, columns=['model_name', 'fold_idx', 'accuracy'])\n",
    "entries\n"
   ]
  },
  {
   "cell_type": "code",
   "execution_count": 44,
   "id": "1bb774d9",
   "metadata": {
    "colab": {
     "base_uri": "https://localhost:8080/",
     "height": 297
    },
    "id": "1bb774d9",
    "outputId": "68ab0788-b27b-475e-c869-fb6241168e42"
   },
   "outputs": [
    {
     "data": {
      "text/plain": [
       "<matplotlib.axes._subplots.AxesSubplot at 0x7fa8a060bee0>"
      ]
     },
     "execution_count": 44,
     "metadata": {},
     "output_type": "execute_result"
    },
    {
     "data": {
      "image/png": "[encoded data removed]",
      "text/plain": [
       "<Figure size 432x288 with 1 Axes>"
      ]
     },
     "metadata": {
      "needs_background": "light"
     },
     "output_type": "display_data"
    }
   ],
   "source": [
    "sns.boxplot(x='model_name', y='accuracy', data=cv_df)\n",
    "sns.stripplot(x='model_name', y='accuracy', data=cv_df,size=8, jitter=True, edgecolor=\"gray\", linewidth=2)"
   ]
  },
  {
   "cell_type": "code",
   "execution_count": 415,
   "id": "149265fb",
   "metadata": {
    "id": "149265fb"
   },
   "outputs": [],
   "source": [
    "from sklearn.model_selection import train_test_split\n",
    "from sklearn.naive_bayes import ComplementNB as CNB\n",
    "from sklearn.naive_bayes import MultinomialNB\n",
    "from sklearn.linear_model import LogisticRegression\n",
    "from sklearn.ensemble import RandomForestClassifier\n",
    "from sklearn.svm import LinearSVC\n",
    "from sklearn.linear_model import Perceptron\n",
    "from sklearn.linear_model import PassiveAggressiveClassifier\n",
    "from sklearn.calibration import CalibratedClassifierCV\n",
    "from sklearn.model_selection import cross_val_score\n",
    "x_train, x_test, y_train, y_test= train_test_split(features, labels, test_size=0.3, random_state=42)\n",
    "\n"
   ]
  },
  {
   "cell_type": "code",
   "execution_count": 416,
   "id": "09ec0703",
   "metadata": {
    "id": "09ec0703"
   },
   "outputs": [],
   "source": [
    "#model=CNB()\n",
    "#model=MultinomialNB()\n",
    "#model=LogisticRegression()\n",
    "#model=RandomForestClassifier(n_estimators=360,criterion='entropy')\n",
    "#model=LinearSVC()\n",
    "#model=Perceptron()\n",
    "model=PassiveAggressiveClassifier()\n",
    "#model=CalibratedClassifierCV()\n"
   ]
  },
  {
   "cell_type": "code",
   "execution_count": 417,
   "id": "8335edf2",
   "metadata": {
    "colab": {
     "base_uri": "https://localhost:8080/"
    },
    "id": "8335edf2",
    "outputId": "8a753be8-a1df-496b-e211-30405672fdeb"
   },
   "outputs": [
    {
     "data": {
      "text/plain": [
       "PassiveAggressiveClassifier()"
      ]
     },
     "execution_count": 417,
     "metadata": {},
     "output_type": "execute_result"
    }
   ],
   "source": [
    "model.fit(x_train,y_train)"
   ]
  },
  {
   "cell_type": "code",
   "execution_count": 418,
   "id": "d2293e79",
   "metadata": {
    "id": "d2293e79"
   },
   "outputs": [],
   "source": [
    "predicted_test = model.predict(x_test)"
   ]
  },
  {
   "cell_type": "code",
   "execution_count": 419,
   "id": "a838b4dd",
   "metadata": {
    "id": "a838b4dd"
   },
   "outputs": [],
   "source": [
    "from sklearn.metrics import classification_report,accuracy_score"
   ]
  },
  {
   "cell_type": "code",
   "execution_count": 420,
   "id": "c5a8ea39",
   "metadata": {
    "colab": {
     "base_uri": "https://localhost:8080/"
    },
    "id": "c5a8ea39",
    "outputId": "6cb4b901-821a-4300-be1f-6fb039a53c32"
   },
   "outputs": [
    {
     "name": "stdout",
     "output_type": "stream",
     "text": [
      "              precision    recall  f1-score   support\n",
      "\n",
      "           0       1.00      0.98      0.99        87\n",
      "           1       0.96      0.98      0.97        83\n",
      "           2       0.97      0.99      0.98        87\n",
      "           3       1.00      1.00      1.00        94\n",
      "           4       0.99      0.97      0.98        70\n",
      "\n",
      "    accuracy                           0.98       421\n",
      "   macro avg       0.98      0.98      0.98       421\n",
      "weighted avg       0.98      0.98      0.98       421\n",
      "\n",
      "0.9679715302491103\n",
      "0.975\n",
      "0.9714285714285714\n",
      "0.9928571428571429\n",
      "0.9892857142857143\n"
     ]
    }
   ],
   "source": [
    "print(classification_report(y_test,predicted_test))\n",
    "k=cross_val_score(model, features, labels, scoring='accuracy')\n",
    "for fold_idx, accuracy in enumerate(k):\n",
    "        print(accuracy)\n"
   ]
  },
  {
   "cell_type": "code",
   "execution_count": 421,
   "id": "7bdc7bbf",
   "metadata": {
    "colab": {
     "base_uri": "https://localhost:8080/"
    },
    "id": "7bdc7bbf",
    "outputId": "616d052b-dee8-4e37-b610-45ea7c8e0689"
   },
   "outputs": [
    {
     "name": "stdout",
     "output_type": "stream",
     "text": [
      "98.33729216152018\n"
     ]
    }
   ],
   "source": [
    "from sklearn.metrics import accuracy_score\n",
    "print(accuracy_score(y_test,predicted_test)*100)"
   ]
  },
  {
   "cell_type": "code",
   "execution_count": null,
   "id": "180bcb1c",
   "metadata": {
    "colab": {
     "base_uri": "https://localhost:8080/"
    },
    "id": "180bcb1c",
    "outputId": "cab49c82-f3a7-4dc5-8bfd-d32ed745e294"
   },
   "outputs": [],
   "source": []
  },
  {
   "cell_type": "code",
   "execution_count": null,
   "id": "a95dd3d4",
   "metadata": {
    "colab": {
     "base_uri": "https://localhost:8080/"
    },
    "id": "a95dd3d4",
    "outputId": "0971086e-4d84-4ff5-ef82-03d87630ccfa"
   },
   "outputs": [],
   "source": []
  },
  {
   "cell_type": "code",
   "execution_count": 383,
   "id": "8cb150ee",
   "metadata": {
    "id": "8cb150ee"
   },
   "outputs": [],
   "source": []
  },
  {
   "cell_type": "code",
   "execution_count": null,
   "id": "3a524328",
   "metadata": {
    "id": "3a524328"
   },
   "outputs": [],
   "source": []
  },
  {
   "cell_type": "code",
   "execution_count": null,
   "id": "f0d1e3ab",
   "metadata": {
    "id": "f0d1e3ab"
   },
   "outputs": [],
   "source": []
  }
 ],
 "metadata": {
  "colab": {
   "provenance": []
  },
  "kernelspec": {
   "display_name": "Python 3 (ipykernel)",
   "language": "python",
   "name": "python3"
  },
  "language_info": {
   "codemirror_mode": {
    "name": "ipython",
    "version": 3
   },
   "file_extension": ".py",
   "mimetype": "text/x-python",
   "name": "python",
   "nbconvert_exporter": "python",
   "pygments_lexer": "ipython3",
   "version": "3.9.7"
  }
 },
 "nbformat": 4,
 "nbformat_minor": 5
}
